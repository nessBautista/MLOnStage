{
 "cells": [
  {
   "cell_type": "code",
   "execution_count": 1,
   "metadata": {},
   "outputs": [
    {
     "data": {
      "text/plain": [
       "PosixPath('/Users/ness/Workspace/MLOnStage/deepLearning/perceptron/perceptron.py')"
      ]
     },
     "execution_count": 1,
     "metadata": {},
     "output_type": "execute_result"
    }
   ],
   "source": [
    "from aider.coders import Coder \n",
    "from pathlib import Path\n",
    "pyproject_path = Path.cwd() / \"perceptron.py\"\n",
    "documentation = Path.cwd() / \"perceptron.md\"\n",
    "eng_design = Path.cwd() / \"perceptron_eng_design.md\"\n",
    "pyproject_path\n",
    "\n",
    "\n"
   ]
  },
  {
   "cell_type": "code",
   "execution_count": 2,
   "metadata": {},
   "outputs": [
    {
     "data": {
      "text/plain": [
       "['/Users/ness/Workspace/MLOnStage/deepLearning/perceptron/perceptron.py']"
      ]
     },
     "execution_count": 2,
     "metadata": {},
     "output_type": "execute_result"
    }
   ],
   "source": [
    "context_editable = [\n",
    "    str(pyproject_path),    \n",
    "]\n",
    "context_editable\n",
    "\n"
   ]
  },
  {
   "cell_type": "code",
   "execution_count": 3,
   "metadata": {},
   "outputs": [
    {
     "data": {
      "text/plain": [
       "['/Users/ness/Workspace/MLOnStage/deepLearning/perceptron/perceptron.md',\n",
       " '/Users/ness/Workspace/MLOnStage/deepLearning/perceptron/perceptron_eng_design.md']"
      ]
     },
     "execution_count": 3,
     "metadata": {},
     "output_type": "execute_result"
    }
   ],
   "source": [
    "context_read_only = [\n",
    "    str(documentation),\n",
    "    str(eng_design)\n",
    "]\n",
    "context_read_only"
   ]
  },
  {
   "cell_type": "code",
   "execution_count": 4,
   "metadata": {},
   "outputs": [],
   "source": [
    "from pydantic import BaseModel, Field\n",
    "from typing import Optional, List, Dict, Any\n",
    "from enum import Enum\n",
    "from datetime import datetime\n",
    "\n",
    "class CodeContext(BaseModel):\n",
    "    \"\"\"Structure for code-related context\"\"\"\n",
    "    language: str = Field(..., description=\"Programming language of the code\")\n",
    "    code: str = Field(..., description=\"The actual code snippet\")\n",
    "    file_path: Optional[str] = Field(None, description=\"Path to the file if applicable\")\n",
    "    dependencies: Optional[List[str]] = Field(default=[], description=\"Required dependencies\")\n",
    "\n",
    "class TaskMeta(BaseModel):\n",
    "    \"\"\"Meta object for AI coding tasks\"\"\"\n",
    "    \n",
    "    # Basic Task Information\n",
    "    id: str = Field(..., description=\"Unique identifier for the task\")\n",
    "    title: str = Field(..., description=\"Title of the task\")\n",
    "    description: str = Field(..., description=\"Detailed description of what needs to be done\")\n",
    "    context_file_paths: Optional[List[str]] = Field(\n",
    "        default=None, \n",
    "        description=\"Paths for read only files that contains related context\"\n",
    "    )\n",
    "    # Task Context\n",
    "    code_context: Optional[List[CodeContext]] = Field(\n",
    "        default=None, \n",
    "        description=\"Relevant code snippets and documentationcontext\"\n",
    "    )\n",
    "\n",
    "    requirements: Optional[List[str]] = Field(\n",
    "        default=None,\n",
    "        description=\"Requirements for the task\"\n",
    "    )\n",
    "    tags: Optional[List[str]] = Field(\n",
    "        default=None,\n",
    "        description=\"Tags for the task\"\n",
    "    )\n",
    "\n",
    "    def build_prompt(self) -> str:\n",
    "        \"\"\"\n",
    "        Builds a structured string prompt from the TaskMeta object.\n",
    "        \n",
    "        Returns:\n",
    "            str: A formatted string containing the structured prompt\n",
    "        \"\"\"\n",
    "        sections = []\n",
    "        \n",
    "        # Add task header with ID and title\n",
    "        sections.append(f\"# Task: {self.title} (ID: {self.id})\")\n",
    "        \n",
    "        # Add description if present\n",
    "        if self.description:\n",
    "            sections.append(\"\\n## Description\")\n",
    "            sections.append(self.description)\n",
    "        \n",
    "        # Add target files if present\n",
    "        if self.context_file_paths:\n",
    "            sections.append(\"\\n## Context read only Files\")\n",
    "            for file_path in self.context_file_paths:\n",
    "                sections.append(f\"- {file_path}\")\n",
    "        \n",
    "        # Add requirements if present\n",
    "        if self.requirements:\n",
    "            sections.append(\"\\n## Requirements\")\n",
    "            for req in self.requirements:\n",
    "                sections.append(f\"- {req}\")\n",
    "        \n",
    "        # Add code context if present\n",
    "        if self.code_context:\n",
    "            sections.append(\"\\n## Code Context\")\n",
    "            for idx, context in enumerate(self.code_context, 1):\n",
    "                # add code snippet header                \n",
    "                sections.append(f\"\\n### Code Snippet {idx}\")\n",
    "                # Specify language\n",
    "                sections.append(f\"Language: {context.language}\")\n",
    "                if context.dependencies:\n",
    "                    sections.append(\"Dependencies:\")\n",
    "                    for dep in context.dependencies:\n",
    "                        sections.append(f\"- {dep}\")\n",
    "                # Specify file path if available\n",
    "                if context.file_path:\n",
    "                    sections.append(\"file path:\")\n",
    "                    sections.append(f\"- {context.file_path}\")\n",
    "                # Add contents of the code snippet\n",
    "                sections.append(\"\\n```\" + context.language)\n",
    "                sections.append(context.code.strip())\n",
    "                sections.append(\"```\")\n",
    "        \n",
    "        # Add tags if present\n",
    "        if self.tags:\n",
    "            sections.append(\"\\n## Tags\")\n",
    "            sections.append(\", \".join(self.tags))\n",
    "        \n",
    "        # Join all sections with newlines\n",
    "        return \"\\n\".join(sections)\n",
    "\n",
    "    class Config:\n",
    "        \"\"\"Pydantic model configuration\"\"\"\n",
    "        arbitrary_types_allowed = True\n",
    "        json_encoders = {\n",
    "            datetime: lambda v: v.isoformat()\n",
    "        }"
   ]
  },
  {
   "cell_type": "markdown",
   "metadata": {},
   "source": [
    "# First task"
   ]
  },
  {
   "cell_type": "code",
   "execution_count": 5,
   "metadata": {},
   "outputs": [
    {
     "data": {
      "text/plain": [
       "'{\"id\":\"implement_base_class\",\"title\":\"Create Perceptron Base Class Structure\",\"description\":\"\\\\n    Create the basic Perceptron class with constructor and docstrings:\\\\n    1. Define class and constructor\\\\n    2. Add parameters: eta, n_iter, random_state\\\\n    3. Add class and method docstrings\\\\n    \",\"context_file_paths\":[\"/Users/ness/Workspace/MLOnStage/deepLearning/perceptron/perceptron.md\",\"/Users/ness/Workspace/MLOnStage/deepLearning/perceptron/perceptron_eng_design.md\"],\"code_context\":[{\"language\":\"python\",\"code\":\"\\\\n            class Perceptron:\\\\n                def __init__(self, eta=0.01, n_iter=50, random_state=1):\\\\n                    # TODO: Implement constructor\\\\n                    pass\\\\n            \",\"file_path\":\"/Users/ness/Workspace/MLOnStage/deepLearning/perceptron/perceptron.py\",\"dependencies\":[]}],\"requirements\":[\"Include learning rate parameter (eta)\",\"Include number of iterations parameter (n_iter)\",\"Include random seed parameter (random_state)\",\"Add proper docstrings following NumPy format\"],\"tags\":[\"perceptron\",\"class-structure\",\"initialization\"]}'"
      ]
     },
     "execution_count": 5,
     "metadata": {},
     "output_type": "execute_result"
    }
   ],
   "source": [
    "task_1 = TaskMeta(\n",
    "    id=\"implement_base_class\",\n",
    "    title=\"Create Perceptron Base Class Structure\",\n",
    "    description=\"\"\"\n",
    "    Create the basic Perceptron class with constructor and docstrings:\n",
    "    1. Define class and constructor\n",
    "    2. Add parameters: eta, n_iter, random_state\n",
    "    3. Add class and method docstrings\n",
    "    \"\"\",\n",
    "    context_file_paths=context_read_only,\n",
    "    code_context=[\n",
    "        CodeContext(\n",
    "            language=\"python\",\n",
    "            code=\"\"\"\n",
    "            class Perceptron:\n",
    "                def __init__(self, eta=0.01, n_iter=50, random_state=1):\n",
    "                    # TODO: Implement constructor\n",
    "                    pass\n",
    "            \"\"\",\n",
    "            file_path=str(pyproject_path)\n",
    "        )\n",
    "    ],\n",
    "    requirements=[\n",
    "        \"Include learning rate parameter (eta)\",\n",
    "        \"Include number of iterations parameter (n_iter)\",\n",
    "        \"Include random seed parameter (random_state)\",\n",
    "        \"Add proper docstrings following NumPy format\"\n",
    "    ],\n",
    "    tags=[\"perceptron\", \"class-structure\", \"initialization\"]\n",
    ")\n",
    "task_1.model_dump_json()"
   ]
  },
  {
   "cell_type": "code",
   "execution_count": 6,
   "metadata": {},
   "outputs": [
    {
     "name": "stdout",
     "output_type": "stream",
     "text": [
      "# Task: Create Perceptron Base Class Structure (ID: implement_base_class)\n",
      "\n",
      "## Description\n",
      "\n",
      "    Create the basic Perceptron class with constructor and docstrings:\n",
      "    1. Define class and constructor\n",
      "    2. Add parameters: eta, n_iter, random_state\n",
      "    3. Add class and method docstrings\n",
      "    \n",
      "\n",
      "## Context read only Files\n",
      "- /Users/ness/Workspace/MLOnStage/deepLearning/perceptron/perceptron.md\n",
      "- /Users/ness/Workspace/MLOnStage/deepLearning/perceptron/perceptron_eng_design.md\n",
      "\n",
      "## Requirements\n",
      "- Include learning rate parameter (eta)\n",
      "- Include number of iterations parameter (n_iter)\n",
      "- Include random seed parameter (random_state)\n",
      "- Add proper docstrings following NumPy format\n",
      "\n",
      "## Code Context\n",
      "\n",
      "### Code Snippet 1\n",
      "Language: python\n",
      "file path:\n",
      "- /Users/ness/Workspace/MLOnStage/deepLearning/perceptron/perceptron.py\n",
      "\n",
      "```python\n",
      "class Perceptron:\n",
      "                def __init__(self, eta=0.01, n_iter=50, random_state=1):\n",
      "                    # TODO: Implement constructor\n",
      "                    pass\n",
      "```\n",
      "\n",
      "## Tags\n",
      "perceptron, class-structure, initialization\n"
     ]
    }
   ],
   "source": [
    "# Generate the prompt\n",
    "prompt = task_1.build_prompt()\n",
    "print(prompt)"
   ]
  },
  {
   "cell_type": "code",
   "execution_count": 10,
   "metadata": {},
   "outputs": [
    {
     "data": {
      "text/plain": [
       "'/Users/ness/Workspace/MLOnStage/deepLearning/perceptron/perceptron.py'"
      ]
     },
     "execution_count": 10,
     "metadata": {},
     "output_type": "execute_result"
    }
   ],
   "source": [
    "from aider.coders import Coder\n",
    "from aider.models import Model\n",
    "\n",
    "model = Model(\"claude-3-5-sonnet-20241022\")\n",
    "# Initialize AI Coding Assistant\n",
    "coder = Coder.create(\n",
    "    main_model=model,\n",
    "    fnames=[task_1.code_context[0].file_path],\n",
    "    read_only_fnames=task_1.context_file_paths,\n",
    "    auto_commits=False,\n",
    "    suggest_shell_commands=False,\n",
    ")\n",
    "\n",
    "# # Run the task\n",
    "result = coder.run_task(task_1.build_prompt())\n",
    "\n",
    "# # Print the result\n",
    "# print(result)\n"
   ]
  }
 ],
 "metadata": {
  "kernelspec": {
   "display_name": "aurora",
   "language": "python",
   "name": "python3"
  },
  "language_info": {
   "codemirror_mode": {
    "name": "ipython",
    "version": 3
   },
   "file_extension": ".py",
   "mimetype": "text/x-python",
   "name": "python",
   "nbconvert_exporter": "python",
   "pygments_lexer": "ipython3",
   "version": "3.11.0"
  }
 },
 "nbformat": 4,
 "nbformat_minor": 2
}
