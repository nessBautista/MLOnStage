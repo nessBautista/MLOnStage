{
  "cells": [
    {
      "cell_type": "markdown",
      "metadata": {},
      "source": [
        "This notebook demonstrates the implementation of transfer learning using pre-trained models (ResNet18, AlexNet, and DenseNet121) on the CIFAR-10 dataset. \n",
        "Transfer learning allows us to leverage knowledge from previously trained models on large datasets (like ImageNet for example) to improve performance for our specific datasets.\n",
        "\n",
        "We begin by importing necessary libraries and setting up our data processing pipeline"
      ]
    },
    {
      "cell_type": "code",
      "execution_count": null,
      "metadata": {
        "id": "YtvSYE0FUfrU"
      },
      "outputs": [],
      "source": [
        "\n",
        "import numpy as np\n",
        "import torch\n",
        "import torch.nn as nn\n",
        "import torch.nn.functional as F\n",
        "\n",
        "from torch.utils.data import DataLoader\n",
        "from torch.utils.data import sampler\n",
        "import torchvision.datasets as datasets\n",
        "import torchvision.transforms as T\n",
        "from torchvision import models\n",
        "import matplotlib.pyplot as plt\n",
        "import tempfile\n",
        "from tabulate import tabulate\n",
        "import torch"
      ]
    },
    {
      "cell_type": "markdown",
      "metadata": {
        "id": "yq_ptNCTU9i-"
      },
      "source": [
        "# Initial Setup and Data Loading\n",
        "\n",
        "In the next rows, we will declare some functions to will help us with the transfer learning process. We will try to keep isolated each functionality so it makes easier to use it and explain later in the code. Specifically, we will declare functions for:\n",
        "1. download the CIFAR-10 dataset. We will make use of `Dataloaders` to load the data in batches. We have worked with `Dataloaders` in the previous notebooks, this is a class that manage a dataset by creating an iterable dataset object, it provides batches which will be fed into the model.\n",
        "2. Get the device to run the model on (Help us to make the code device agnostic)\n",
        "3. Visualize images from the dataset\n",
        "\n"
      ]
    },
    {
      "cell_type": "code",
      "execution_count": null,
      "metadata": {
        "id": "-y7VpTkqVFNx"
      },
      "outputs": [],
      "source": [
        "# Download CIFAR-10 dataset and create data loaders\n",
        "def get_cifar10_loaders(num_train=45000, batch_size=64, data_path=None):\n",
        "    \"\"\"\n",
        "    Creates and returns DataLoaders for CIFAR-10 dataset with proper transformations\n",
        "    for transfer learning.\n",
        "\n",
        "    Args:\n",
        "        num_train (int): Number of training samples (default: 45000)\n",
        "        batch_size (int): Size of mini-batches (default: 64)\n",
        "        data_path (str): Path to store/load dataset. If None, uses temp directory\n",
        "\n",
        "    Returns:\n",
        "        tuple: (train_loader, val_loader, test_loader)\n",
        "    \"\"\"\n",
        "    # Use temporary directory if no path specified\n",
        "    if data_path is None:\n",
        "        import tempfile\n",
        "        data_path = tempfile.gettempdir()\n",
        "\n",
        "    # Define transformations for transfer learning with ImageNet models\n",
        "    transform_imagenet = T.Compose([\n",
        "        T.Resize(224),                # Resize images to ImageNet size\n",
        "        T.ToTensor(),                 # Convert to tensor (0-1 range)\n",
        "        # ImageNet normalization values\n",
        "        # We use these specific values to ensure our input images are normalized \n",
        "        # in the same way as the images that were used to train\n",
        "        T.Normalize((0.485, 0.456, 0.406), (0.229, 0.224, 0.225))\n",
        "    ])\n",
        "\n",
        "    # Load training dataset and create train/val split\n",
        "    cifar10_train = datasets.CIFAR10(data_path,\n",
        "                                    train=True,\n",
        "                                    download=True,\n",
        "                                    transform=transform_imagenet)\n",
        "\n",
        "    # Create training loader with subset sampler\n",
        "    train_loader = DataLoader(\n",
        "        cifar10_train,\n",
        "        batch_size=batch_size,\n",
        "        sampler=sampler.SubsetRandomSampler(range(num_train))\n",
        "    )\n",
        "\n",
        "    # Create validation loader with remaining training data\n",
        "    val_loader = DataLoader(\n",
        "        cifar10_train,\n",
        "        batch_size=batch_size,\n",
        "        sampler=sampler.SubsetRandomSampler(range(num_train, len(cifar10_train)))\n",
        "    )\n",
        "\n",
        "    # Load and create test loader\n",
        "    cifar10_test = datasets.CIFAR10(data_path,\n",
        "                                   train=False,\n",
        "                                   download=True,\n",
        "                                   transform=transform_imagenet)\n",
        "    test_loader = DataLoader(cifar10_test, batch_size=batch_size)\n",
        "\n",
        "    return train_loader, val_loader, test_loader\n",
        "\n",
        "# 2. Get the device to run the model on (Help us to make the code device agnostic)\n",
        "def get_device(force_cpu=False):\n",
        "    \"\"\"\n",
        "    Returns the best available device for PyTorch operations.\n",
        "\n",
        "    Args:\n",
        "        force_cpu (bool): If True, will return CPU even if CUDA is available\n",
        "                         Useful for debugging or when GPU memory is limited\n",
        "\n",
        "    Returns:\n",
        "        torch.device: 'cuda' if GPU is available (and force_cpu=False), 'cpu' otherwise\n",
        "    \"\"\"\n",
        "    if not force_cpu and torch.cuda.is_available():\n",
        "        device = torch.device('cuda')\n",
        "        print(f'Using CUDA device: {torch.cuda.get_device_name(0)}')\n",
        "    else:\n",
        "        device = torch.device('cpu')\n",
        "        print('Using CPU')\n",
        "\n",
        "    return device\n",
        "\n",
        "# 3. Visualize images from the dataset\n",
        "def plot_random_sample(loader, classes=None):\n",
        "    \"\"\"\n",
        "    Randomly selects and plots an image from a DataLoader with its corresponding label.\n",
        "\n",
        "    Args:\n",
        "        loader (DataLoader): PyTorch DataLoader containing the dataset\n",
        "        classes (list, optional): List of class names. If None, will only show class index\n",
        "\n",
        "    Returns:\n",
        "        tuple: (image_tensor, label) of the plotted sample\n",
        "    \"\"\"\n",
        "    # Get a random index\n",
        "    rnd_sample_idx = np.random.randint(len(loader.dataset))\n",
        "\n",
        "    # Get the image and label\n",
        "    image, label = loader.dataset[rnd_sample_idx]\n",
        "\n",
        "    # Normalize image for visualization\n",
        "    image_normalized = (image - image.min()) / (image.max() - image.min())\n",
        "\n",
        "    # Print the class\n",
        "    if classes:\n",
        "        print(f'This image represents: {classes[label]}')\n",
        "    else:\n",
        "        print(f'Class index: {label}')\n",
        "\n",
        "    # Plot the image\n",
        "    plt.figure(figsize=(6, 6))\n",
        "    plt.imshow(image_normalized.permute(1, 2, 0))\n",
        "    plt.axis('off')\n",
        "    plt.show()\n",
        "\n",
        "    return image, label"
      ]
    },
    {
      "cell_type": "markdown",
      "metadata": {
        "id": "AMcCGqNCVM7o"
      },
      "source": [
        "Let's proceed to download and examine our data"
      ]
    },
    {
      "cell_type": "code",
      "execution_count": null,
      "metadata": {
        "colab": {
          "base_uri": "https://localhost:8080/",
          "height": 638
        },
        "id": "LW4A6R3pVQBJ",
        "outputId": "e33e9ede-aa53-43d0-8fdc-d672ce07f44a"
      },
      "outputs": [
        {
          "name": "stdout",
          "output_type": "stream",
          "text": [
            "Downloading https://www.cs.toronto.edu/~kriz/cifar-10-python.tar.gz to /tmp/cifar-10-python.tar.gz\n"
          ]
        },
        {
          "name": "stderr",
          "output_type": "stream",
          "text": [
            "100%|██████████| 170M/170M [00:21<00:00, 8.06MB/s]\n"
          ]
        },
        {
          "name": "stdout",
          "output_type": "stream",
          "text": [
            "Extracting /tmp/cifar-10-python.tar.gz to /tmp\n",
            "Files already downloaded and verified\n",
            "Using CUDA device: Tesla T4\n",
            "\n",
            "Viewing random samples from training data:\n",
            "This image represents: Frog\n"
          ]
        },
        {
          "data": {
            "image/png": "[encoded data removed]",
            "text/plain": [
              "<Figure size 600x600 with 1 Axes>"
            ]
          },
          "metadata": {},
          "output_type": "display_data"
        }
      ],
      "source": [
        "# Get the DataLoaders for training, validation and test\n",
        "train_loader, val_loader, test_loader = get_cifar10_loaders()\n",
        "# Get the device to run the model on\n",
        "device = get_device()\n",
        "# Define CIFAR-10 classes for better visualization\n",
        "cifar10_classes = ['Plane', 'Car', 'Bird', 'Cat', 'Deer',\n",
        "                   'Dog', 'Frog', 'Horse', 'Ship', 'Truck']\n",
        "\n",
        "# Visualize some random samples from training data\n",
        "print(\"\\nViewing random samples from training data:\")\n",
        "for _ in range(1):  # Show 1 random samples\n",
        "    plot_random_sample(train_loader, cifar10_classes)"
      ]
    },
    {
      "cell_type": "markdown",
      "metadata": {
        "id": "6oRlpT60Vij1"
      },
      "source": [
        "# Downloads Pretrained Models\n",
        "We will use three different architectures:\n",
        "- ResNet18\n",
        "- AlexNet\n",
        "- DenseNet121\n",
        "\n",
        "In the next rows we will declare functions that will help us to:\n",
        "1. Download pretrained models from PyTorch Hub\n",
        "2. Explore the model architecture (we are interesting in the last layer as we will replace it with our own classifier)"
      ]
    },
    {
      "cell_type": "code",
      "execution_count": null,
      "metadata": {
        "id": "B6Vb1-jVVnV7"
      },
      "outputs": [],
      "source": [
        "def get_pretrained_model(model_name='resnet18'):\n",
        "    \"\"\"\n",
        "    Get a pretrained model from PyTorch's model zoo without modifying its architecture.\n",
        "\n",
        "    Args:\n",
        "        model_name (str): Name of the pretrained model to load\n",
        "            Options: 'resnet18', 'alexnet', 'vgg16', 'densenet121'\n",
        "\n",
        "    Returns:\n",
        "        model: Original pretrained PyTorch model (1000 ImageNet classes)\n",
        "    \"\"\"\n",
        "    # Dictionary of supported models and their constructors\n",
        "    models_dict = {\n",
        "        'resnet18': models.resnet18,\n",
        "        'alexnet': models.alexnet,\n",
        "        'vgg16': models.vgg16,\n",
        "        'densenet121': models.densenet121\n",
        "    }\n",
        "\n",
        "    # Check if requested model is supported\n",
        "    if model_name not in models_dict:\n",
        "        raise ValueError(f\"Model {model_name} not supported. Choose from: {list(models_dict.keys())}\")\n",
        "\n",
        "    # Load pretrained model, log action to the console\n",
        "    print(f\"Loading pretrained {model_name}...\")\n",
        "    model = models_dict[model_name](pretrained=True)\n",
        "\n",
        "    return model"
      ]
    },
    {
      "cell_type": "code",
      "execution_count": null,
      "metadata": {
        "id": "q4DkOnUeVr-c"
      },
      "outputs": [],
      "source": [
        "def model_to_table_summary(model):\n",
        "    \"\"\"\n",
        "    Creates a minimal table showing only the last layer of the model.\n",
        "\n",
        "    Args:\n",
        "        model (nn.Module): PyTorch model to convert\n",
        "\n",
        "    Returns:\n",
        "        str: Formatted table showing last layer\n",
        "    \"\"\"\n",
        "    table_data = []\n",
        "\n",
        "    def get_last_layer(model):\n",
        "        \"\"\"Helper function to get the last linear layer based on model architecture\"\"\"\n",
        "        if hasattr(model, 'classifier') and isinstance(model.classifier, nn.Linear):  # DenseNet\n",
        "            return model.classifier\n",
        "        elif hasattr(model, 'classifier'):  # AlexNet, VGG\n",
        "            return model.classifier[-1]\n",
        "        elif hasattr(model, 'fc'):        # ResNet\n",
        "            return model.fc\n",
        "        raise ValueError(\"Could not find last layer\")\n",
        "\n",
        "    # Get last layer\n",
        "    try:\n",
        "        last_layer = get_last_layer(model)\n",
        "        table_data.append([\n",
        "            last_layer.__class__.__name__,\n",
        "            f\"{last_layer.in_features} → {last_layer.out_features}\"\n",
        "        ])\n",
        "    except Exception as e:\n",
        "        print(f\"Warning: Could not process last layer: {e}\")\n",
        "\n",
        "    headers = [\"Type\", \"Features (in → out)\"]\n",
        "    return tabulate(table_data, headers=headers, tablefmt=\"grid\")\n",
        "\n"
      ]
    },
    {
      "cell_type": "markdown",
      "metadata": {
        "id": "nJBYntZoVvCE"
      },
      "source": [
        "Now, let's download the models and visualize the last layer of the models"
      ]
    },
    {
      "cell_type": "code",
      "execution_count": null,
      "metadata": {
        "colab": {
          "base_uri": "https://localhost:8080/"
        },
        "id": "WyQPM1LiVyKJ",
        "outputId": "044597cc-4f1a-44ef-9ac9-328a906d439d"
      },
      "outputs": [
        {
          "name": "stdout",
          "output_type": "stream",
          "text": [
            "Loading pretrained resnet18...\n"
          ]
        },
        {
          "name": "stderr",
          "output_type": "stream",
          "text": [
            "/usr/local/lib/python3.11/dist-packages/torchvision/models/_utils.py:208: UserWarning: The parameter 'pretrained' is deprecated since 0.13 and may be removed in the future, please use 'weights' instead.\n",
            "  warnings.warn(\n",
            "/usr/local/lib/python3.11/dist-packages/torchvision/models/_utils.py:223: UserWarning: Arguments other than a weight enum or `None` for 'weights' are deprecated since 0.13 and may be removed in the future. The current behavior is equivalent to passing `weights=ResNet18_Weights.IMAGENET1K_V1`. You can also use `weights=ResNet18_Weights.DEFAULT` to get the most up-to-date weights.\n",
            "  warnings.warn(msg)\n",
            "Downloading: \"https://download.pytorch.org/models/resnet18-f37072fd.pth\" to /root/.cache/torch/hub/checkpoints/resnet18-f37072fd.pth\n",
            "100%|██████████| 44.7M/44.7M [00:00<00:00, 135MB/s]\n",
            "/usr/local/lib/python3.11/dist-packages/torchvision/models/_utils.py:223: UserWarning: Arguments other than a weight enum or `None` for 'weights' are deprecated since 0.13 and may be removed in the future. The current behavior is equivalent to passing `weights=AlexNet_Weights.IMAGENET1K_V1`. You can also use `weights=AlexNet_Weights.DEFAULT` to get the most up-to-date weights.\n",
            "  warnings.warn(msg)\n"
          ]
        },
        {
          "name": "stdout",
          "output_type": "stream",
          "text": [
            "Loading pretrained alexnet...\n"
          ]
        },
        {
          "name": "stderr",
          "output_type": "stream",
          "text": [
            "Downloading: \"https://download.pytorch.org/models/alexnet-owt-7be5be79.pth\" to /root/.cache/torch/hub/checkpoints/alexnet-owt-7be5be79.pth\n",
            "100%|██████████| 233M/233M [00:01<00:00, 151MB/s]\n",
            "/usr/local/lib/python3.11/dist-packages/torchvision/models/_utils.py:223: UserWarning: Arguments other than a weight enum or `None` for 'weights' are deprecated since 0.13 and may be removed in the future. The current behavior is equivalent to passing `weights=DenseNet121_Weights.IMAGENET1K_V1`. You can also use `weights=DenseNet121_Weights.DEFAULT` to get the most up-to-date weights.\n",
            "  warnings.warn(msg)\n",
            "Downloading: \"https://download.pytorch.org/models/densenet121-a639ec97.pth\" to /root/.cache/torch/hub/checkpoints/densenet121-a639ec97.pth\n"
          ]
        },
        {
          "name": "stdout",
          "output_type": "stream",
          "text": [
            "Loading pretrained densenet121...\n"
          ]
        },
        {
          "name": "stderr",
          "output_type": "stream",
          "text": [
            "100%|██████████| 30.8M/30.8M [00:00<00:00, 175MB/s]\n"
          ]
        }
      ],
      "source": [
        "# download the pretrained models\n",
        "resnet_model = get_pretrained_model(model_name=\"resnet18\")\n",
        "alexnet_model = get_pretrained_model(model_name=\"alexnet\")\n",
        "densenet_model = get_pretrained_model(model_name=\"densenet121\")"
      ]
    },
    {
      "cell_type": "code",
      "execution_count": null,
      "metadata": {
        "colab": {
          "base_uri": "https://localhost:8080/"
        },
        "id": "OhpoBBE4V2sI",
        "outputId": "a5ddb5f9-3653-4a06-d0e2-b6bae8420b39"
      },
      "outputs": [
        {
          "name": "stdout",
          "output_type": "stream",
          "text": [
            "ResNet18:\n",
            "+--------+-----------------------+\n",
            "| Type   | Features (in → out)   |\n",
            "+========+=======================+\n",
            "| Linear | 512 → 1000            |\n",
            "+--------+-----------------------+\n",
            "\n",
            "AlexNet:\n",
            "+--------+-----------------------+\n",
            "| Type   | Features (in → out)   |\n",
            "+========+=======================+\n",
            "| Linear | 4096 → 1000           |\n",
            "+--------+-----------------------+\n",
            "\n",
            "DenseNet:\n",
            "+--------+-----------------------+\n",
            "| Type   | Features (in → out)   |\n",
            "+========+=======================+\n",
            "| Linear | 1024 → 1000           |\n",
            "+--------+-----------------------+\n"
          ]
        }
      ],
      "source": [
        "# let's visualize the last layer of the models\n",
        "print(f\"ResNet18:\\n{model_to_table_summary(resnet_model)}\")\n",
        "print(f\"\\nAlexNet:\\n{model_to_table_summary(alexnet_model)}\")\n",
        "print(f\"\\nDenseNet:\\n{model_to_table_summary(densenet_model)}\")"
      ]
    },
    {
      "cell_type": "markdown",
      "metadata": {
        "id": "LMLHnHo_V8xc"
      },
      "source": [
        "# Transfer learning processes\n",
        "\n",
        "Transfer learning is a powerful technique that allows us to leverage pre-trained models. And its relatively straight forward. The main steps are:\n",
        "\n",
        "1. Remove the final classification layer\n",
        "2. Freeze all the parameters\n",
        "2. Add a new classifier layer for our 10 classes\n",
        "3. Train the new classifier layer.\n",
        "3. Unfreeze the parameters previously frozen\n",
        "4. Train again for a few epochs\n",
        "\n",
        "The last 2 steps are part of the fine tuning process.\n",
        "\n",
        "Of course these steps outline a basic process, and there are some details that could make it more complex.\n",
        "For example, during the realization of this exercise we had some troubles connecting the last layer to the new classifier. Restnet has an AdaptiveAvgPool2d layer before the final linear layer, this layer reduces any input size to a fixed 512-dimensional feature vector, but alexnet and densenet don't have this adaptive pooling behavior, AlexNet produces 9216 features and DenseNet produces features of size 50176. We needed to adapt a function to manage such differences.\n",
        "\n",
        "Another interesting challenge, was to examine the composition of the models, debugging the freeze and unfreeze parameters, and making sure the final configuration of the model was correct.\n",
        "\n",
        "After multiple variations of the exercise, we have delimited the steps of the process into functions that we will proceed to declare. We hope that, by maintining each step in a function, the readability of this notebook will be improved.\n",
        "\n",
        "We will declare the following functions:\n",
        "1. model_to_sequential: This one will remove the last layer of the pre-trained model and return the rest of the model as a sequential container.\n",
        "2. freeze_parameters\n",
        "3. unfreeze_parameters\n",
        "4. create_classifier: This function will be responsible to adapt the last layer of our model to a classifier with 10 classes. It's going to take into account the different dimensions of the last layer for each model.\n",
        "\n",
        "\n"
      ]
    },
    {
      "cell_type": "code",
      "execution_count": null,
      "metadata": {
        "id": "HDMPg3aSWCZu"
      },
      "outputs": [],
      "source": [
        "def model_to_sequential(model):\n",
        "    \"\"\"\n",
        "    Converts a model to a Sequential container, excluding the last layer.\n",
        "\n",
        "    Args:\n",
        "        model (nn.Module): Input model (ResNet, AlexNet, DenseNet, etc.)\n",
        "\n",
        "    Returns:\n",
        "        nn.Sequential: Sequential container with all layers except the last one\n",
        "    \"\"\"\n",
        "    # Get all layers except the last one\n",
        "    layers = list(model.children())[:-1]\n",
        "\n",
        "    # Create a Sequential container with these layers\n",
        "    sequential = nn.Sequential(*layers)\n",
        "    return sequential\n",
        "\n",
        "def freeze_parameters(model):\n",
        "    \"\"\"\n",
        "    Freezes all parameters in a model by setting requires_grad=False.\n",
        "\n",
        "    Args:\n",
        "        model (nn.Module): PyTorch model whose parameters should be frozen\n",
        "\n",
        "    Returns:\n",
        "        nn.Module: Model with frozen parameters\n",
        "    \"\"\"\n",
        "    for param in model.parameters():\n",
        "        param.requires_grad = False\n",
        "\n",
        "    return model\n",
        "\n",
        "def unfreeze_parameters(model):\n",
        "    \"\"\"\n",
        "    Unfreezes all parameters in a model by setting requires_grad=True.\n",
        "\n",
        "    Args:\n",
        "        model (nn.Module): PyTorch model whose parameters should be unfrozen\n",
        "\n",
        "    Returns:\n",
        "        nn.Module: Model with unfrozen parameters\n",
        "    \"\"\"\n",
        "    for param in model.parameters():\n",
        "        param.requires_grad = True\n",
        "\n",
        "    return model\n",
        "\n",
        "def create_classifier(base_model, model_type, num_classes=10):\n",
        "    \"\"\"\n",
        "    Creates a classifier by adding Flatten and Linear layers to a base model.\n",
        "\n",
        "    Args:\n",
        "        base_model (nn.Module): Base model without final classification layer\n",
        "        model_type (str): Type of the original model ('ResNet', 'AlexNet', or 'DenseNet')\n",
        "        num_classes (int): Number of output classes (default: 10 for CIFAR-10)\n",
        "\n",
        "    Returns:\n",
        "        nn.Sequential: New model with Flatten and appropriate Linear layer\n",
        "    \"\"\"\n",
        "    # Dictionary mapping model types to their feature dimensions\n",
        "    feature_dimensions = {\n",
        "        'ResNet': 512,\n",
        "        'AlexNet': 9216,\n",
        "        'DenseNet': 50176\n",
        "    }\n",
        "\n",
        "    # Get input features based on model type\n",
        "    for name, dim in feature_dimensions.items():\n",
        "        if name in model_type:\n",
        "            in_features = dim\n",
        "            break\n",
        "    else:\n",
        "        raise ValueError(f\"Unsupported model type: {model_type}\")\n",
        "\n",
        "    # Create new Sequential model with Flatten and Linear layers\n",
        "    classifier = nn.Sequential(\n",
        "        base_model,\n",
        "        nn.Flatten(),\n",
        "        nn.Linear(in_features=in_features, out_features=num_classes, bias=True)\n",
        "    )\n",
        "\n",
        "    return classifier\n",
        "\n"
      ]
    },
    {
      "cell_type": "markdown",
      "metadata": {
        "id": "K6399XTaWQ4a"
      },
      "source": [
        "# Training and accuracy\n",
        "\n",
        "Next we will declare functions for training and calculation of accuracy."
      ]
    },
    {
      "cell_type": "code",
      "execution_count": null,
      "metadata": {
        "id": "db8exLhuWSx2"
      },
      "outputs": [],
      "source": [
        "def accuracy(model, loader):\n",
        "    \"\"\"\n",
        "    Calculate the accuracy of a model on a given dataset.\n",
        "\n",
        "    Args:\n",
        "        model: PyTorch model to evaluate\n",
        "        loader: DataLoader containing the dataset\n",
        "\n",
        "    Returns:\n",
        "        float: Accuracy score between 0 and 1\n",
        "    \"\"\"\n",
        "    # Initialize counters for correct predictions and total samples\n",
        "    num_correct = 0\n",
        "    num_total = 0\n",
        "\n",
        "    # Set model to evaluation mode (disables dropout, batch norm adjustments, etc.)\n",
        "    model.eval()\n",
        "    # Ensure model is on the correct device\n",
        "    model = model.to(device=device)\n",
        "\n",
        "    # Disable gradient calculations for efficiency during evaluation\n",
        "    with torch.no_grad():\n",
        "        # Iterate through batches in the data loader\n",
        "        for (xi, yi) in loader:\n",
        "            # Move input data to the same device as model\n",
        "            xi = xi.to(device=device, dtype=torch.float32)  # Move images\n",
        "            yi = yi.to(device=device, dtype=torch.long)     # Move labels\n",
        "\n",
        "            # Forward pass: get model predictions\n",
        "            scores = model(xi)  # Shape: [batch_size, num_classes]\n",
        "\n",
        "            # Get the predicted class (highest score) for each sample\n",
        "            _, pred = scores.max(dim=1)  # Shape: [batch_size]\n",
        "\n",
        "            # Count correct predictions\n",
        "            num_correct += (pred == yi).sum()  # Compare predictions with true labels\n",
        "\n",
        "            # Update total number of samples processed\n",
        "            num_total += pred.size(0)  # Add batch size\n",
        "\n",
        "        # Calculate and return accuracy as a percentage\n",
        "        return float(num_correct) / num_total\n",
        "\n",
        "def train(model, optimiser, epochs=100):\n",
        "    \"\"\"\n",
        "    Train a PyTorch model using the specified optimizer.\n",
        "\n",
        "    Args:\n",
        "        model: PyTorch model to train\n",
        "        optimiser: PyTorch optimizer for updating model parameters\n",
        "        epochs (int): Number of training epochs (default: 100)\n",
        "\n",
        "    \"\"\"\n",
        "    # Move model to appropriate device (GPU/CPU)\n",
        "    model = model.to(device=device)\n",
        "\n",
        "    # Training loop over epochs\n",
        "    for epoch in range(epochs):\n",
        "        # Inner loop over batches in training data\n",
        "        for i, (xi, yi) in enumerate(train_loader):\n",
        "            # Set model to training mode (enables dropout, batch norm, etc.)\n",
        "            model.train()\n",
        "\n",
        "            # Move batch data to appropriate device\n",
        "            xi = xi.to(device=device, dtype=torch.float32)  # Input images\n",
        "            yi = yi.to(device=device, dtype=torch.long)     # Labels\n",
        "\n",
        "            # Forward pass: compute predictions\n",
        "            scores = model(xi)\n",
        "\n",
        "            # Compute loss\n",
        "            cost = F.cross_entropy(input=scores, target=yi)\n",
        "\n",
        "            # Backward pass and optimization\n",
        "            optimiser.zero_grad()           # Clear previous gradients\n",
        "            cost.backward()                 # Compute gradients\n",
        "            optimiser.step()                # Update weights\n",
        "\n",
        "        # Compute validation accuracy after each epoch\n",
        "        acc = accuracy(model, val_loader)\n",
        "        print(f'Epoch: {epoch}, costo: {cost.item()}, accuracy: {acc},')\n"
      ]
    },
    {
      "cell_type": "markdown",
      "metadata": {
        "id": "nRzKc6_lWZBI"
      },
      "source": [
        "# Transfer Learning execution for AlexNet, DenseNet and ResNet\n",
        "\n",
        "At this point we have all the elements we need to perform the transfer learning. \n",
        "- We have our Dataloaders ready with the CIFAR10 dataset\n",
        "- We have our pretrained models\n",
        "- And we have the functions that will help us build a transfer learning pipeline for each model.\n",
        "\n",
        "We will proceed in the following order\n",
        "\n",
        "```\n",
        "alexnet_model \n",
        "densenet_model \n",
        "resnet_model \n",
        "```"
      ]
    },
    {
      "cell_type": "markdown",
      "metadata": {
        "id": "ZUnRsbJeWmId"
      },
      "source": [
        "# AlexNet"
      ]
    },
    {
      "cell_type": "code",
      "execution_count": null,
      "metadata": {
        "id": "0AOZU8nJWoDg"
      },
      "outputs": [],
      "source": [
        "# Create a sequential model and remove the last layer\n",
        "alexnet_model_aux = model_to_sequential(alexnet_model)\n",
        "# Freeze all the parameters\n",
        "alexnet_model_aux = freeze_parameters(alexnet_model_aux)\n",
        "# Connect a linear layer to create a classifier with 10 classes (matching our CIFAR10)\n",
        "alexnet_model_aux = create_classifier(\n",
        "    base_model=alexnet_model_aux,\n",
        "    model_type='AlexNet'  # Specify the original model type\n",
        ")\n",
        "# Move model to appropriate device\n",
        "alexnet_model_aux = alexnet_model_aux.to(device)\n",
        "# Declare learning rate and optimizer\n",
        "initial_lr = 5e-4\n",
        "optimizer = torch.optim.Adam(\n",
        "    alexnet_model_aux.parameters(),\n",
        "    lr=initial_lr\n",
        ")\n"
      ]
    },
    {
      "cell_type": "code",
      "execution_count": null,
      "metadata": {
        "colab": {
          "base_uri": "https://localhost:8080/"
        },
        "id": "RK9r2yZaWr-w",
        "outputId": "2cfb0c62-0cbc-4c9b-98d8-7422c0d6d519"
      },
      "outputs": [
        {
          "data": {
            "text/plain": [
              "Sequential(\n",
              "  (0): Sequential(\n",
              "    (0): Sequential(\n",
              "      (0): Conv2d(3, 64, kernel_size=(11, 11), stride=(4, 4), padding=(2, 2))\n",
              "      (1): ReLU(inplace=True)\n",
              "      (2): MaxPool2d(kernel_size=3, stride=2, padding=0, dilation=1, ceil_mode=False)\n",
              "      (3): Conv2d(64, 192, kernel_size=(5, 5), stride=(1, 1), padding=(2, 2))\n",
              "      (4): ReLU(inplace=True)\n",
              "      (5): MaxPool2d(kernel_size=3, stride=2, padding=0, dilation=1, ceil_mode=False)\n",
              "      (6): Conv2d(192, 384, kernel_size=(3, 3), stride=(1, 1), padding=(1, 1))\n",
              "      (7): ReLU(inplace=True)\n",
              "      (8): Conv2d(384, 256, kernel_size=(3, 3), stride=(1, 1), padding=(1, 1))\n",
              "      (9): ReLU(inplace=True)\n",
              "      (10): Conv2d(256, 256, kernel_size=(3, 3), stride=(1, 1), padding=(1, 1))\n",
              "      (11): ReLU(inplace=True)\n",
              "      (12): MaxPool2d(kernel_size=3, stride=2, padding=0, dilation=1, ceil_mode=False)\n",
              "    )\n",
              "    (1): AdaptiveAvgPool2d(output_size=(6, 6))\n",
              "  )\n",
              "  (1): Flatten(start_dim=1, end_dim=-1)\n",
              "  (2): Linear(in_features=9216, out_features=10, bias=True)\n",
              ")"
            ]
          },
          "execution_count": 11,
          "metadata": {},
          "output_type": "execute_result"
        }
      ],
      "source": [
        "# Verify the model has the correct layer configuration\n",
        "alexnet_model_aux"
      ]
    },
    {
      "cell_type": "code",
      "execution_count": null,
      "metadata": {
        "colab": {
          "base_uri": "https://localhost:8080/"
        },
        "id": "fMT76TYnWuN9",
        "outputId": "160d6054-acd9-4372-e91b-69a82c1916d1"
      },
      "outputs": [
        {
          "name": "stdout",
          "output_type": "stream",
          "text": [
            "Training AlexNet with frozen features...\n",
            "Epoch: 0, costo: 0.1843952089548111, accuracy: 0.8344,\n",
            "Epoch: 1, costo: 0.8712192177772522, accuracy: 0.8326,\n",
            "Epoch: 2, costo: 0.9213857650756836, accuracy: 0.8354,\n",
            "Epoch: 3, costo: 0.4722718894481659, accuracy: 0.8318,\n",
            "Epoch: 4, costo: 0.11730790138244629, accuracy: 0.8282,\n"
          ]
        }
      ],
      "source": [
        "# Train only the classifier (with frozen features)\n",
        "print(\"Training AlexNet with frozen features...\")\n",
        "train(alexnet_model_aux, optimizer, epochs=5)"
      ]
    },
    {
      "cell_type": "code",
      "execution_count": null,
      "metadata": {
        "colab": {
          "base_uri": "https://localhost:8080/"
        },
        "id": "R0wZ46CTWxAi",
        "outputId": "9fa94932-5a30-4b60-bec4-9f8cdd6ebe68"
      },
      "outputs": [
        {
          "name": "stdout",
          "output_type": "stream",
          "text": [
            "Fine-tuning AlexNet...\n",
            "Epoch: 0, costo: 0.4243334233760834, accuracy: 0.8408,\n",
            "Epoch: 1, costo: 0.01422123797237873, accuracy: 0.85,\n",
            "Epoch: 2, costo: 0.10735354572534561, accuracy: 0.8598,\n"
          ]
        }
      ],
      "source": [
        "# Unfreeze the model for fine-tuning\n",
        "unfreeze_parameters(alexnet_model_aux)\n",
        "# Continue training for a few epochs\n",
        "fine_tune_lr = 1e-4  \n",
        "optimizer = torch.optim.Adam(alexnet_model_aux.parameters(), lr=fine_tune_lr)\n",
        "\n",
        "print(\"Fine-tuning AlexNet...\")\n",
        "train(alexnet_model_aux, optimizer, epochs=3)  "
      ]
    },
    {
      "cell_type": "code",
      "execution_count": null,
      "metadata": {
        "colab": {
          "base_uri": "https://localhost:8080/"
        },
        "id": "q262oEMhWxtx",
        "outputId": "fa223d74-bcdc-4c1d-ee12-8edb58489c69"
      },
      "outputs": [
        {
          "name": "stdout",
          "output_type": "stream",
          "text": [
            "AlexNet Final test accuracy: 0.8561\n"
          ]
        }
      ],
      "source": [
        "# Evaluate final model\n",
        "final_accuracy = accuracy(alexnet_model_aux, test_loader)\n",
        "print(f\"AlexNet Final test accuracy: {final_accuracy:.4f}\")"
      ]
    },
    {
      "cell_type": "markdown",
      "metadata": {
        "id": "m8XkDN5uW0pf"
      },
      "source": [
        "# DenseNet"
      ]
    },
    {
      "cell_type": "code",
      "execution_count": null,
      "metadata": {
        "id": "_0uTqIyCW2h9"
      },
      "outputs": [],
      "source": [
        "# Create a sequential model and remove the last layer\n",
        "densenet_model_aux = model_to_sequential(densenet_model)\n",
        "\n",
        "#  Freeze all the parameters\n",
        "densenet_model_aux = freeze_parameters(densenet_model_aux)\n",
        "\n",
        "#  Connect a linear layer to create a classifier with 10 classes (matching our CIFAR10)\n",
        "densenet_model_aux = create_classifier(\n",
        "    base_model=densenet_model_aux,\n",
        "    model_type='DenseNet'  # Specify the original model type\n",
        ")\n",
        "\n",
        "# Move model to appropriate device\n",
        "densenet_model_aux = densenet_model_aux.to(device)\n",
        "\n",
        "# Declare learning rate and optimizer\n",
        "initial_lr = 5e-4\n",
        "optimizer = torch.optim.Adam(\n",
        "    densenet_model_aux.parameters(),\n",
        "    lr=initial_lr\n",
        ")"
      ]
    },
    {
      "cell_type": "code",
      "execution_count": null,
      "metadata": {
        "colab": {
          "base_uri": "https://localhost:8080/"
        },
        "id": "-vAiMtiVW44t",
        "outputId": "c2684a74-ecd4-4161-9bc1-b78158e769a6"
      },
      "outputs": [
        {
          "data": {
            "text/plain": [
              "Sequential(\n",
              "  (0): Sequential(\n",
              "    (0): Sequential(\n",
              "      (conv0): Conv2d(3, 64, kernel_size=(7, 7), stride=(2, 2), padding=(3, 3), bias=False)\n",
              "      (norm0): BatchNorm2d(64, eps=1e-05, momentum=0.1, affine=True, track_running_stats=True)\n",
              "      (relu0): ReLU(inplace=True)\n",
              "      (pool0): MaxPool2d(kernel_size=3, stride=2, padding=1, dilation=1, ceil_mode=False)\n",
              "      (denseblock1): _DenseBlock(\n",
              "        (denselayer1): _DenseLayer(\n",
              "          (norm1): BatchNorm2d(64, eps=1e-05, momentum=0.1, affine=True, track_running_stats=True)\n",
              "          (relu1): ReLU(inplace=True)\n",
              "          (conv1): Conv2d(64, 128, kernel_size=(1, 1), stride=(1, 1), bias=False)\n",
              "          (norm2): BatchNorm2d(128, eps=1e-05, momentum=0.1, affine=True, track_running_stats=True)\n",
              "          (relu2): ReLU(inplace=True)\n",
              "          (conv2): Conv2d(128, 32, kernel_size=(3, 3), stride=(1, 1), padding=(1, 1), bias=False)\n",
              "        )\n",
              "        (denselayer2): _DenseLayer(\n",
              "          (norm1): BatchNorm2d(96, eps=1e-05, momentum=0.1, affine=True, track_running_stats=True)\n",
              "          (relu1): ReLU(inplace=True)\n",
              "          (conv1): Conv2d(96, 128, kernel_size=(1, 1), stride=(1, 1), bias=False)\n",
              "          (norm2): BatchNorm2d(128, eps=1e-05, momentum=0.1, affine=True, track_running_stats=True)\n",
              "          (relu2): ReLU(inplace=True)\n",
              "          (conv2): Conv2d(128, 32, kernel_size=(3, 3), stride=(1, 1), padding=(1, 1), bias=False)\n",
              "        )\n",
              "        (denselayer3): _DenseLayer(\n",
              "          (norm1): BatchNorm2d(128, eps=1e-05, momentum=0.1, affine=True, track_running_stats=True)\n",
              "          (relu1): ReLU(inplace=True)\n",
              "          (conv1): Conv2d(128, 128, kernel_size=(1, 1), stride=(1, 1), bias=False)\n",
              "          (norm2): BatchNorm2d(128, eps=1e-05, momentum=0.1, affine=True, track_running_stats=True)\n",
              "          (relu2): ReLU(inplace=True)\n",
              "          (conv2): Conv2d(128, 32, kernel_size=(3, 3), stride=(1, 1), padding=(1, 1), bias=False)\n",
              "        )\n",
              "        (denselayer4): _DenseLayer(\n",
              "          (norm1): BatchNorm2d(160, eps=1e-05, momentum=0.1, affine=True, track_running_stats=True)\n",
              "          (relu1): ReLU(inplace=True)\n",
              "          (conv1): Conv2d(160, 128, kernel_size=(1, 1), stride=(1, 1), bias=False)\n",
              "          (norm2): BatchNorm2d(128, eps=1e-05, momentum=0.1, affine=True, track_running_stats=True)\n",
              "          (relu2): ReLU(inplace=True)\n",
              "          (conv2): Conv2d(128, 32, kernel_size=(3, 3), stride=(1, 1), padding=(1, 1), bias=False)\n",
              "        )\n",
              "        (denselayer5): _DenseLayer(\n",
              "          (norm1): BatchNorm2d(192, eps=1e-05, momentum=0.1, affine=True, track_running_stats=True)\n",
              "          (relu1): ReLU(inplace=True)\n",
              "          (conv1): Conv2d(192, 128, kernel_size=(1, 1), stride=(1, 1), bias=False)\n",
              "          (norm2): BatchNorm2d(128, eps=1e-05, momentum=0.1, affine=True, track_running_stats=True)\n",
              "          (relu2): ReLU(inplace=True)\n",
              "          (conv2): Conv2d(128, 32, kernel_size=(3, 3), stride=(1, 1), padding=(1, 1), bias=False)\n",
              "        )\n",
              "        (denselayer6): _DenseLayer(\n",
              "          (norm1): BatchNorm2d(224, eps=1e-05, momentum=0.1, affine=True, track_running_stats=True)\n",
              "          (relu1): ReLU(inplace=True)\n",
              "          (conv1): Conv2d(224, 128, kernel_size=(1, 1), stride=(1, 1), bias=False)\n",
              "          (norm2): BatchNorm2d(128, eps=1e-05, momentum=0.1, affine=True, track_running_stats=True)\n",
              "          (relu2): ReLU(inplace=True)\n",
              "          (conv2): Conv2d(128, 32, kernel_size=(3, 3), stride=(1, 1), padding=(1, 1), bias=False)\n",
              "        )\n",
              "      )\n",
              "      (transition1): _Transition(\n",
              "        (norm): BatchNorm2d(256, eps=1e-05, momentum=0.1, affine=True, track_running_stats=True)\n",
              "        (relu): ReLU(inplace=True)\n",
              "        (conv): Conv2d(256, 128, kernel_size=(1, 1), stride=(1, 1), bias=False)\n",
              "        (pool): AvgPool2d(kernel_size=2, stride=2, padding=0)\n",
              "      )\n",
              "      (denseblock2): _DenseBlock(\n",
              "        (denselayer1): _DenseLayer(\n",
              "          (norm1): BatchNorm2d(128, eps=1e-05, momentum=0.1, affine=True, track_running_stats=True)\n",
              "          (relu1): ReLU(inplace=True)\n",
              "          (conv1): Conv2d(128, 128, kernel_size=(1, 1), stride=(1, 1), bias=False)\n",
              "          (norm2): BatchNorm2d(128, eps=1e-05, momentum=0.1, affine=True, track_running_stats=True)\n",
              "          (relu2): ReLU(inplace=True)\n",
              "          (conv2): Conv2d(128, 32, kernel_size=(3, 3), stride=(1, 1), padding=(1, 1), bias=False)\n",
              "        )\n",
              "        (denselayer2): _DenseLayer(\n",
              "          (norm1): BatchNorm2d(160, eps=1e-05, momentum=0.1, affine=True, track_running_stats=True)\n",
              "          (relu1): ReLU(inplace=True)\n",
              "          (conv1): Conv2d(160, 128, kernel_size=(1, 1), stride=(1, 1), bias=False)\n",
              "          (norm2): BatchNorm2d(128, eps=1e-05, momentum=0.1, affine=True, track_running_stats=True)\n",
              "          (relu2): ReLU(inplace=True)\n",
              "          (conv2): Conv2d(128, 32, kernel_size=(3, 3), stride=(1, 1), padding=(1, 1), bias=False)\n",
              "        )\n",
              "        (denselayer3): _DenseLayer(\n",
              "          (norm1): BatchNorm2d(192, eps=1e-05, momentum=0.1, affine=True, track_running_stats=True)\n",
              "          (relu1): ReLU(inplace=True)\n",
              "          (conv1): Conv2d(192, 128, kernel_size=(1, 1), stride=(1, 1), bias=False)\n",
              "          (norm2): BatchNorm2d(128, eps=1e-05, momentum=0.1, affine=True, track_running_stats=True)\n",
              "          (relu2): ReLU(inplace=True)\n",
              "          (conv2): Conv2d(128, 32, kernel_size=(3, 3), stride=(1, 1), padding=(1, 1), bias=False)\n",
              "        )\n",
              "        (denselayer4): _DenseLayer(\n",
              "          (norm1): BatchNorm2d(224, eps=1e-05, momentum=0.1, affine=True, track_running_stats=True)\n",
              "          (relu1): ReLU(inplace=True)\n",
              "          (conv1): Conv2d(224, 128, kernel_size=(1, 1), stride=(1, 1), bias=False)\n",
              "          (norm2): BatchNorm2d(128, eps=1e-05, momentum=0.1, affine=True, track_running_stats=True)\n",
              "          (relu2): ReLU(inplace=True)\n",
              "          (conv2): Conv2d(128, 32, kernel_size=(3, 3), stride=(1, 1), padding=(1, 1), bias=False)\n",
              "        )\n",
              "        (denselayer5): _DenseLayer(\n",
              "          (norm1): BatchNorm2d(256, eps=1e-05, momentum=0.1, affine=True, track_running_stats=True)\n",
              "          (relu1): ReLU(inplace=True)\n",
              "          (conv1): Conv2d(256, 128, kernel_size=(1, 1), stride=(1, 1), bias=False)\n",
              "          (norm2): BatchNorm2d(128, eps=1e-05, momentum=0.1, affine=True, track_running_stats=True)\n",
              "          (relu2): ReLU(inplace=True)\n",
              "          (conv2): Conv2d(128, 32, kernel_size=(3, 3), stride=(1, 1), padding=(1, 1), bias=False)\n",
              "        )\n",
              "        (denselayer6): _DenseLayer(\n",
              "          (norm1): BatchNorm2d(288, eps=1e-05, momentum=0.1, affine=True, track_running_stats=True)\n",
              "          (relu1): ReLU(inplace=True)\n",
              "          (conv1): Conv2d(288, 128, kernel_size=(1, 1), stride=(1, 1), bias=False)\n",
              "          (norm2): BatchNorm2d(128, eps=1e-05, momentum=0.1, affine=True, track_running_stats=True)\n",
              "          (relu2): ReLU(inplace=True)\n",
              "          (conv2): Conv2d(128, 32, kernel_size=(3, 3), stride=(1, 1), padding=(1, 1), bias=False)\n",
              "        )\n",
              "        (denselayer7): _DenseLayer(\n",
              "          (norm1): BatchNorm2d(320, eps=1e-05, momentum=0.1, affine=True, track_running_stats=True)\n",
              "          (relu1): ReLU(inplace=True)\n",
              "          (conv1): Conv2d(320, 128, kernel_size=(1, 1), stride=(1, 1), bias=False)\n",
              "          (norm2): BatchNorm2d(128, eps=1e-05, momentum=0.1, affine=True, track_running_stats=True)\n",
              "          (relu2): ReLU(inplace=True)\n",
              "          (conv2): Conv2d(128, 32, kernel_size=(3, 3), stride=(1, 1), padding=(1, 1), bias=False)\n",
              "        )\n",
              "        (denselayer8): _DenseLayer(\n",
              "          (norm1): BatchNorm2d(352, eps=1e-05, momentum=0.1, affine=True, track_running_stats=True)\n",
              "          (relu1): ReLU(inplace=True)\n",
              "          (conv1): Conv2d(352, 128, kernel_size=(1, 1), stride=(1, 1), bias=False)\n",
              "          (norm2): BatchNorm2d(128, eps=1e-05, momentum=0.1, affine=True, track_running_stats=True)\n",
              "          (relu2): ReLU(inplace=True)\n",
              "          (conv2): Conv2d(128, 32, kernel_size=(3, 3), stride=(1, 1), padding=(1, 1), bias=False)\n",
              "        )\n",
              "        (denselayer9): _DenseLayer(\n",
              "          (norm1): BatchNorm2d(384, eps=1e-05, momentum=0.1, affine=True, track_running_stats=True)\n",
              "          (relu1): ReLU(inplace=True)\n",
              "          (conv1): Conv2d(384, 128, kernel_size=(1, 1), stride=(1, 1), bias=False)\n",
              "          (norm2): BatchNorm2d(128, eps=1e-05, momentum=0.1, affine=True, track_running_stats=True)\n",
              "          (relu2): ReLU(inplace=True)\n",
              "          (conv2): Conv2d(128, 32, kernel_size=(3, 3), stride=(1, 1), padding=(1, 1), bias=False)\n",
              "        )\n",
              "        (denselayer10): _DenseLayer(\n",
              "          (norm1): BatchNorm2d(416, eps=1e-05, momentum=0.1, affine=True, track_running_stats=True)\n",
              "          (relu1): ReLU(inplace=True)\n",
              "          (conv1): Conv2d(416, 128, kernel_size=(1, 1), stride=(1, 1), bias=False)\n",
              "          (norm2): BatchNorm2d(128, eps=1e-05, momentum=0.1, affine=True, track_running_stats=True)\n",
              "          (relu2): ReLU(inplace=True)\n",
              "          (conv2): Conv2d(128, 32, kernel_size=(3, 3), stride=(1, 1), padding=(1, 1), bias=False)\n",
              "        )\n",
              "        (denselayer11): _DenseLayer(\n",
              "          (norm1): BatchNorm2d(448, eps=1e-05, momentum=0.1, affine=True, track_running_stats=True)\n",
              "          (relu1): ReLU(inplace=True)\n",
              "          (conv1): Conv2d(448, 128, kernel_size=(1, 1), stride=(1, 1), bias=False)\n",
              "          (norm2): BatchNorm2d(128, eps=1e-05, momentum=0.1, affine=True, track_running_stats=True)\n",
              "          (relu2): ReLU(inplace=True)\n",
              "          (conv2): Conv2d(128, 32, kernel_size=(3, 3), stride=(1, 1), padding=(1, 1), bias=False)\n",
              "        )\n",
              "        (denselayer12): _DenseLayer(\n",
              "          (norm1): BatchNorm2d(480, eps=1e-05, momentum=0.1, affine=True, track_running_stats=True)\n",
              "          (relu1): ReLU(inplace=True)\n",
              "          (conv1): Conv2d(480, 128, kernel_size=(1, 1), stride=(1, 1), bias=False)\n",
              "          (norm2): BatchNorm2d(128, eps=1e-05, momentum=0.1, affine=True, track_running_stats=True)\n",
              "          (relu2): ReLU(inplace=True)\n",
              "          (conv2): Conv2d(128, 32, kernel_size=(3, 3), stride=(1, 1), padding=(1, 1), bias=False)\n",
              "        )\n",
              "      )\n",
              "      (transition2): _Transition(\n",
              "        (norm): BatchNorm2d(512, eps=1e-05, momentum=0.1, affine=True, track_running_stats=True)\n",
              "        (relu): ReLU(inplace=True)\n",
              "        (conv): Conv2d(512, 256, kernel_size=(1, 1), stride=(1, 1), bias=False)\n",
              "        (pool): AvgPool2d(kernel_size=2, stride=2, padding=0)\n",
              "      )\n",
              "      (denseblock3): _DenseBlock(\n",
              "        (denselayer1): _DenseLayer(\n",
              "          (norm1): BatchNorm2d(256, eps=1e-05, momentum=0.1, affine=True, track_running_stats=True)\n",
              "          (relu1): ReLU(inplace=True)\n",
              "          (conv1): Conv2d(256, 128, kernel_size=(1, 1), stride=(1, 1), bias=False)\n",
              "          (norm2): BatchNorm2d(128, eps=1e-05, momentum=0.1, affine=True, track_running_stats=True)\n",
              "          (relu2): ReLU(inplace=True)\n",
              "          (conv2): Conv2d(128, 32, kernel_size=(3, 3), stride=(1, 1), padding=(1, 1), bias=False)\n",
              "        )\n",
              "        (denselayer2): _DenseLayer(\n",
              "          (norm1): BatchNorm2d(288, eps=1e-05, momentum=0.1, affine=True, track_running_stats=True)\n",
              "          (relu1): ReLU(inplace=True)\n",
              "          (conv1): Conv2d(288, 128, kernel_size=(1, 1), stride=(1, 1), bias=False)\n",
              "          (norm2): BatchNorm2d(128, eps=1e-05, momentum=0.1, affine=True, track_running_stats=True)\n",
              "          (relu2): ReLU(inplace=True)\n",
              "          (conv2): Conv2d(128, 32, kernel_size=(3, 3), stride=(1, 1), padding=(1, 1), bias=False)\n",
              "        )\n",
              "        (denselayer3): _DenseLayer(\n",
              "          (norm1): BatchNorm2d(320, eps=1e-05, momentum=0.1, affine=True, track_running_stats=True)\n",
              "          (relu1): ReLU(inplace=True)\n",
              "          (conv1): Conv2d(320, 128, kernel_size=(1, 1), stride=(1, 1), bias=False)\n",
              "          (norm2): BatchNorm2d(128, eps=1e-05, momentum=0.1, affine=True, track_running_stats=True)\n",
              "          (relu2): ReLU(inplace=True)\n",
              "          (conv2): Conv2d(128, 32, kernel_size=(3, 3), stride=(1, 1), padding=(1, 1), bias=False)\n",
              "        )\n",
              "        (denselayer4): _DenseLayer(\n",
              "          (norm1): BatchNorm2d(352, eps=1e-05, momentum=0.1, affine=True, track_running_stats=True)\n",
              "          (relu1): ReLU(inplace=True)\n",
              "          (conv1): Conv2d(352, 128, kernel_size=(1, 1), stride=(1, 1), bias=False)\n",
              "          (norm2): BatchNorm2d(128, eps=1e-05, momentum=0.1, affine=True, track_running_stats=True)\n",
              "          (relu2): ReLU(inplace=True)\n",
              "          (conv2): Conv2d(128, 32, kernel_size=(3, 3), stride=(1, 1), padding=(1, 1), bias=False)\n",
              "        )\n",
              "        (denselayer5): _DenseLayer(\n",
              "          (norm1): BatchNorm2d(384, eps=1e-05, momentum=0.1, affine=True, track_running_stats=True)\n",
              "          (relu1): ReLU(inplace=True)\n",
              "          (conv1): Conv2d(384, 128, kernel_size=(1, 1), stride=(1, 1), bias=False)\n",
              "          (norm2): BatchNorm2d(128, eps=1e-05, momentum=0.1, affine=True, track_running_stats=True)\n",
              "          (relu2): ReLU(inplace=True)\n",
              "          (conv2): Conv2d(128, 32, kernel_size=(3, 3), stride=(1, 1), padding=(1, 1), bias=False)\n",
              "        )\n",
              "        (denselayer6): _DenseLayer(\n",
              "          (norm1): BatchNorm2d(416, eps=1e-05, momentum=0.1, affine=True, track_running_stats=True)\n",
              "          (relu1): ReLU(inplace=True)\n",
              "          (conv1): Conv2d(416, 128, kernel_size=(1, 1), stride=(1, 1), bias=False)\n",
              "          (norm2): BatchNorm2d(128, eps=1e-05, momentum=0.1, affine=True, track_running_stats=True)\n",
              "          (relu2): ReLU(inplace=True)\n",
              "          (conv2): Conv2d(128, 32, kernel_size=(3, 3), stride=(1, 1), padding=(1, 1), bias=False)\n",
              "        )\n",
              "        (denselayer7): _DenseLayer(\n",
              "          (norm1): BatchNorm2d(448, eps=1e-05, momentum=0.1, affine=True, track_running_stats=True)\n",
              "          (relu1): ReLU(inplace=True)\n",
              "          (conv1): Conv2d(448, 128, kernel_size=(1, 1), stride=(1, 1), bias=False)\n",
              "          (norm2): BatchNorm2d(128, eps=1e-05, momentum=0.1, affine=True, track_running_stats=True)\n",
              "          (relu2): ReLU(inplace=True)\n",
              "          (conv2): Conv2d(128, 32, kernel_size=(3, 3), stride=(1, 1), padding=(1, 1), bias=False)\n",
              "        )\n",
              "        (denselayer8): _DenseLayer(\n",
              "          (norm1): BatchNorm2d(480, eps=1e-05, momentum=0.1, affine=True, track_running_stats=True)\n",
              "          (relu1): ReLU(inplace=True)\n",
              "          (conv1): Conv2d(480, 128, kernel_size=(1, 1), stride=(1, 1), bias=False)\n",
              "          (norm2): BatchNorm2d(128, eps=1e-05, momentum=0.1, affine=True, track_running_stats=True)\n",
              "          (relu2): ReLU(inplace=True)\n",
              "          (conv2): Conv2d(128, 32, kernel_size=(3, 3), stride=(1, 1), padding=(1, 1), bias=False)\n",
              "        )\n",
              "        (denselayer9): _DenseLayer(\n",
              "          (norm1): BatchNorm2d(512, eps=1e-05, momentum=0.1, affine=True, track_running_stats=True)\n",
              "          (relu1): ReLU(inplace=True)\n",
              "          (conv1): Conv2d(512, 128, kernel_size=(1, 1), stride=(1, 1), bias=False)\n",
              "          (norm2): BatchNorm2d(128, eps=1e-05, momentum=0.1, affine=True, track_running_stats=True)\n",
              "          (relu2): ReLU(inplace=True)\n",
              "          (conv2): Conv2d(128, 32, kernel_size=(3, 3), stride=(1, 1), padding=(1, 1), bias=False)\n",
              "        )\n",
              "        (denselayer10): _DenseLayer(\n",
              "          (norm1): BatchNorm2d(544, eps=1e-05, momentum=0.1, affine=True, track_running_stats=True)\n",
              "          (relu1): ReLU(inplace=True)\n",
              "          (conv1): Conv2d(544, 128, kernel_size=(1, 1), stride=(1, 1), bias=False)\n",
              "          (norm2): BatchNorm2d(128, eps=1e-05, momentum=0.1, affine=True, track_running_stats=True)\n",
              "          (relu2): ReLU(inplace=True)\n",
              "          (conv2): Conv2d(128, 32, kernel_size=(3, 3), stride=(1, 1), padding=(1, 1), bias=False)\n",
              "        )\n",
              "        (denselayer11): _DenseLayer(\n",
              "          (norm1): BatchNorm2d(576, eps=1e-05, momentum=0.1, affine=True, track_running_stats=True)\n",
              "          (relu1): ReLU(inplace=True)\n",
              "          (conv1): Conv2d(576, 128, kernel_size=(1, 1), stride=(1, 1), bias=False)\n",
              "          (norm2): BatchNorm2d(128, eps=1e-05, momentum=0.1, affine=True, track_running_stats=True)\n",
              "          (relu2): ReLU(inplace=True)\n",
              "          (conv2): Conv2d(128, 32, kernel_size=(3, 3), stride=(1, 1), padding=(1, 1), bias=False)\n",
              "        )\n",
              "        (denselayer12): _DenseLayer(\n",
              "          (norm1): BatchNorm2d(608, eps=1e-05, momentum=0.1, affine=True, track_running_stats=True)\n",
              "          (relu1): ReLU(inplace=True)\n",
              "          (conv1): Conv2d(608, 128, kernel_size=(1, 1), stride=(1, 1), bias=False)\n",
              "          (norm2): BatchNorm2d(128, eps=1e-05, momentum=0.1, affine=True, track_running_stats=True)\n",
              "          (relu2): ReLU(inplace=True)\n",
              "          (conv2): Conv2d(128, 32, kernel_size=(3, 3), stride=(1, 1), padding=(1, 1), bias=False)\n",
              "        )\n",
              "        (denselayer13): _DenseLayer(\n",
              "          (norm1): BatchNorm2d(640, eps=1e-05, momentum=0.1, affine=True, track_running_stats=True)\n",
              "          (relu1): ReLU(inplace=True)\n",
              "          (conv1): Conv2d(640, 128, kernel_size=(1, 1), stride=(1, 1), bias=False)\n",
              "          (norm2): BatchNorm2d(128, eps=1e-05, momentum=0.1, affine=True, track_running_stats=True)\n",
              "          (relu2): ReLU(inplace=True)\n",
              "          (conv2): Conv2d(128, 32, kernel_size=(3, 3), stride=(1, 1), padding=(1, 1), bias=False)\n",
              "        )\n",
              "        (denselayer14): _DenseLayer(\n",
              "          (norm1): BatchNorm2d(672, eps=1e-05, momentum=0.1, affine=True, track_running_stats=True)\n",
              "          (relu1): ReLU(inplace=True)\n",
              "          (conv1): Conv2d(672, 128, kernel_size=(1, 1), stride=(1, 1), bias=False)\n",
              "          (norm2): BatchNorm2d(128, eps=1e-05, momentum=0.1, affine=True, track_running_stats=True)\n",
              "          (relu2): ReLU(inplace=True)\n",
              "          (conv2): Conv2d(128, 32, kernel_size=(3, 3), stride=(1, 1), padding=(1, 1), bias=False)\n",
              "        )\n",
              "        (denselayer15): _DenseLayer(\n",
              "          (norm1): BatchNorm2d(704, eps=1e-05, momentum=0.1, affine=True, track_running_stats=True)\n",
              "          (relu1): ReLU(inplace=True)\n",
              "          (conv1): Conv2d(704, 128, kernel_size=(1, 1), stride=(1, 1), bias=False)\n",
              "          (norm2): BatchNorm2d(128, eps=1e-05, momentum=0.1, affine=True, track_running_stats=True)\n",
              "          (relu2): ReLU(inplace=True)\n",
              "          (conv2): Conv2d(128, 32, kernel_size=(3, 3), stride=(1, 1), padding=(1, 1), bias=False)\n",
              "        )\n",
              "        (denselayer16): _DenseLayer(\n",
              "          (norm1): BatchNorm2d(736, eps=1e-05, momentum=0.1, affine=True, track_running_stats=True)\n",
              "          (relu1): ReLU(inplace=True)\n",
              "          (conv1): Conv2d(736, 128, kernel_size=(1, 1), stride=(1, 1), bias=False)\n",
              "          (norm2): BatchNorm2d(128, eps=1e-05, momentum=0.1, affine=True, track_running_stats=True)\n",
              "          (relu2): ReLU(inplace=True)\n",
              "          (conv2): Conv2d(128, 32, kernel_size=(3, 3), stride=(1, 1), padding=(1, 1), bias=False)\n",
              "        )\n",
              "        (denselayer17): _DenseLayer(\n",
              "          (norm1): BatchNorm2d(768, eps=1e-05, momentum=0.1, affine=True, track_running_stats=True)\n",
              "          (relu1): ReLU(inplace=True)\n",
              "          (conv1): Conv2d(768, 128, kernel_size=(1, 1), stride=(1, 1), bias=False)\n",
              "          (norm2): BatchNorm2d(128, eps=1e-05, momentum=0.1, affine=True, track_running_stats=True)\n",
              "          (relu2): ReLU(inplace=True)\n",
              "          (conv2): Conv2d(128, 32, kernel_size=(3, 3), stride=(1, 1), padding=(1, 1), bias=False)\n",
              "        )\n",
              "        (denselayer18): _DenseLayer(\n",
              "          (norm1): BatchNorm2d(800, eps=1e-05, momentum=0.1, affine=True, track_running_stats=True)\n",
              "          (relu1): ReLU(inplace=True)\n",
              "          (conv1): Conv2d(800, 128, kernel_size=(1, 1), stride=(1, 1), bias=False)\n",
              "          (norm2): BatchNorm2d(128, eps=1e-05, momentum=0.1, affine=True, track_running_stats=True)\n",
              "          (relu2): ReLU(inplace=True)\n",
              "          (conv2): Conv2d(128, 32, kernel_size=(3, 3), stride=(1, 1), padding=(1, 1), bias=False)\n",
              "        )\n",
              "        (denselayer19): _DenseLayer(\n",
              "          (norm1): BatchNorm2d(832, eps=1e-05, momentum=0.1, affine=True, track_running_stats=True)\n",
              "          (relu1): ReLU(inplace=True)\n",
              "          (conv1): Conv2d(832, 128, kernel_size=(1, 1), stride=(1, 1), bias=False)\n",
              "          (norm2): BatchNorm2d(128, eps=1e-05, momentum=0.1, affine=True, track_running_stats=True)\n",
              "          (relu2): ReLU(inplace=True)\n",
              "          (conv2): Conv2d(128, 32, kernel_size=(3, 3), stride=(1, 1), padding=(1, 1), bias=False)\n",
              "        )\n",
              "        (denselayer20): _DenseLayer(\n",
              "          (norm1): BatchNorm2d(864, eps=1e-05, momentum=0.1, affine=True, track_running_stats=True)\n",
              "          (relu1): ReLU(inplace=True)\n",
              "          (conv1): Conv2d(864, 128, kernel_size=(1, 1), stride=(1, 1), bias=False)\n",
              "          (norm2): BatchNorm2d(128, eps=1e-05, momentum=0.1, affine=True, track_running_stats=True)\n",
              "          (relu2): ReLU(inplace=True)\n",
              "          (conv2): Conv2d(128, 32, kernel_size=(3, 3), stride=(1, 1), padding=(1, 1), bias=False)\n",
              "        )\n",
              "        (denselayer21): _DenseLayer(\n",
              "          (norm1): BatchNorm2d(896, eps=1e-05, momentum=0.1, affine=True, track_running_stats=True)\n",
              "          (relu1): ReLU(inplace=True)\n",
              "          (conv1): Conv2d(896, 128, kernel_size=(1, 1), stride=(1, 1), bias=False)\n",
              "          (norm2): BatchNorm2d(128, eps=1e-05, momentum=0.1, affine=True, track_running_stats=True)\n",
              "          (relu2): ReLU(inplace=True)\n",
              "          (conv2): Conv2d(128, 32, kernel_size=(3, 3), stride=(1, 1), padding=(1, 1), bias=False)\n",
              "        )\n",
              "        (denselayer22): _DenseLayer(\n",
              "          (norm1): BatchNorm2d(928, eps=1e-05, momentum=0.1, affine=True, track_running_stats=True)\n",
              "          (relu1): ReLU(inplace=True)\n",
              "          (conv1): Conv2d(928, 128, kernel_size=(1, 1), stride=(1, 1), bias=False)\n",
              "          (norm2): BatchNorm2d(128, eps=1e-05, momentum=0.1, affine=True, track_running_stats=True)\n",
              "          (relu2): ReLU(inplace=True)\n",
              "          (conv2): Conv2d(128, 32, kernel_size=(3, 3), stride=(1, 1), padding=(1, 1), bias=False)\n",
              "        )\n",
              "        (denselayer23): _DenseLayer(\n",
              "          (norm1): BatchNorm2d(960, eps=1e-05, momentum=0.1, affine=True, track_running_stats=True)\n",
              "          (relu1): ReLU(inplace=True)\n",
              "          (conv1): Conv2d(960, 128, kernel_size=(1, 1), stride=(1, 1), bias=False)\n",
              "          (norm2): BatchNorm2d(128, eps=1e-05, momentum=0.1, affine=True, track_running_stats=True)\n",
              "          (relu2): ReLU(inplace=True)\n",
              "          (conv2): Conv2d(128, 32, kernel_size=(3, 3), stride=(1, 1), padding=(1, 1), bias=False)\n",
              "        )\n",
              "        (denselayer24): _DenseLayer(\n",
              "          (norm1): BatchNorm2d(992, eps=1e-05, momentum=0.1, affine=True, track_running_stats=True)\n",
              "          (relu1): ReLU(inplace=True)\n",
              "          (conv1): Conv2d(992, 128, kernel_size=(1, 1), stride=(1, 1), bias=False)\n",
              "          (norm2): BatchNorm2d(128, eps=1e-05, momentum=0.1, affine=True, track_running_stats=True)\n",
              "          (relu2): ReLU(inplace=True)\n",
              "          (conv2): Conv2d(128, 32, kernel_size=(3, 3), stride=(1, 1), padding=(1, 1), bias=False)\n",
              "        )\n",
              "      )\n",
              "      (transition3): _Transition(\n",
              "        (norm): BatchNorm2d(1024, eps=1e-05, momentum=0.1, affine=True, track_running_stats=True)\n",
              "        (relu): ReLU(inplace=True)\n",
              "        (conv): Conv2d(1024, 512, kernel_size=(1, 1), stride=(1, 1), bias=False)\n",
              "        (pool): AvgPool2d(kernel_size=2, stride=2, padding=0)\n",
              "      )\n",
              "      (denseblock4): _DenseBlock(\n",
              "        (denselayer1): _DenseLayer(\n",
              "          (norm1): BatchNorm2d(512, eps=1e-05, momentum=0.1, affine=True, track_running_stats=True)\n",
              "          (relu1): ReLU(inplace=True)\n",
              "          (conv1): Conv2d(512, 128, kernel_size=(1, 1), stride=(1, 1), bias=False)\n",
              "          (norm2): BatchNorm2d(128, eps=1e-05, momentum=0.1, affine=True, track_running_stats=True)\n",
              "          (relu2): ReLU(inplace=True)\n",
              "          (conv2): Conv2d(128, 32, kernel_size=(3, 3), stride=(1, 1), padding=(1, 1), bias=False)\n",
              "        )\n",
              "        (denselayer2): _DenseLayer(\n",
              "          (norm1): BatchNorm2d(544, eps=1e-05, momentum=0.1, affine=True, track_running_stats=True)\n",
              "          (relu1): ReLU(inplace=True)\n",
              "          (conv1): Conv2d(544, 128, kernel_size=(1, 1), stride=(1, 1), bias=False)\n",
              "          (norm2): BatchNorm2d(128, eps=1e-05, momentum=0.1, affine=True, track_running_stats=True)\n",
              "          (relu2): ReLU(inplace=True)\n",
              "          (conv2): Conv2d(128, 32, kernel_size=(3, 3), stride=(1, 1), padding=(1, 1), bias=False)\n",
              "        )\n",
              "        (denselayer3): _DenseLayer(\n",
              "          (norm1): BatchNorm2d(576, eps=1e-05, momentum=0.1, affine=True, track_running_stats=True)\n",
              "          (relu1): ReLU(inplace=True)\n",
              "          (conv1): Conv2d(576, 128, kernel_size=(1, 1), stride=(1, 1), bias=False)\n",
              "          (norm2): BatchNorm2d(128, eps=1e-05, momentum=0.1, affine=True, track_running_stats=True)\n",
              "          (relu2): ReLU(inplace=True)\n",
              "          (conv2): Conv2d(128, 32, kernel_size=(3, 3), stride=(1, 1), padding=(1, 1), bias=False)\n",
              "        )\n",
              "        (denselayer4): _DenseLayer(\n",
              "          (norm1): BatchNorm2d(608, eps=1e-05, momentum=0.1, affine=True, track_running_stats=True)\n",
              "          (relu1): ReLU(inplace=True)\n",
              "          (conv1): Conv2d(608, 128, kernel_size=(1, 1), stride=(1, 1), bias=False)\n",
              "          (norm2): BatchNorm2d(128, eps=1e-05, momentum=0.1, affine=True, track_running_stats=True)\n",
              "          (relu2): ReLU(inplace=True)\n",
              "          (conv2): Conv2d(128, 32, kernel_size=(3, 3), stride=(1, 1), padding=(1, 1), bias=False)\n",
              "        )\n",
              "        (denselayer5): _DenseLayer(\n",
              "          (norm1): BatchNorm2d(640, eps=1e-05, momentum=0.1, affine=True, track_running_stats=True)\n",
              "          (relu1): ReLU(inplace=True)\n",
              "          (conv1): Conv2d(640, 128, kernel_size=(1, 1), stride=(1, 1), bias=False)\n",
              "          (norm2): BatchNorm2d(128, eps=1e-05, momentum=0.1, affine=True, track_running_stats=True)\n",
              "          (relu2): ReLU(inplace=True)\n",
              "          (conv2): Conv2d(128, 32, kernel_size=(3, 3), stride=(1, 1), padding=(1, 1), bias=False)\n",
              "        )\n",
              "        (denselayer6): _DenseLayer(\n",
              "          (norm1): BatchNorm2d(672, eps=1e-05, momentum=0.1, affine=True, track_running_stats=True)\n",
              "          (relu1): ReLU(inplace=True)\n",
              "          (conv1): Conv2d(672, 128, kernel_size=(1, 1), stride=(1, 1), bias=False)\n",
              "          (norm2): BatchNorm2d(128, eps=1e-05, momentum=0.1, affine=True, track_running_stats=True)\n",
              "          (relu2): ReLU(inplace=True)\n",
              "          (conv2): Conv2d(128, 32, kernel_size=(3, 3), stride=(1, 1), padding=(1, 1), bias=False)\n",
              "        )\n",
              "        (denselayer7): _DenseLayer(\n",
              "          (norm1): BatchNorm2d(704, eps=1e-05, momentum=0.1, affine=True, track_running_stats=True)\n",
              "          (relu1): ReLU(inplace=True)\n",
              "          (conv1): Conv2d(704, 128, kernel_size=(1, 1), stride=(1, 1), bias=False)\n",
              "          (norm2): BatchNorm2d(128, eps=1e-05, momentum=0.1, affine=True, track_running_stats=True)\n",
              "          (relu2): ReLU(inplace=True)\n",
              "          (conv2): Conv2d(128, 32, kernel_size=(3, 3), stride=(1, 1), padding=(1, 1), bias=False)\n",
              "        )\n",
              "        (denselayer8): _DenseLayer(\n",
              "          (norm1): BatchNorm2d(736, eps=1e-05, momentum=0.1, affine=True, track_running_stats=True)\n",
              "          (relu1): ReLU(inplace=True)\n",
              "          (conv1): Conv2d(736, 128, kernel_size=(1, 1), stride=(1, 1), bias=False)\n",
              "          (norm2): BatchNorm2d(128, eps=1e-05, momentum=0.1, affine=True, track_running_stats=True)\n",
              "          (relu2): ReLU(inplace=True)\n",
              "          (conv2): Conv2d(128, 32, kernel_size=(3, 3), stride=(1, 1), padding=(1, 1), bias=False)\n",
              "        )\n",
              "        (denselayer9): _DenseLayer(\n",
              "          (norm1): BatchNorm2d(768, eps=1e-05, momentum=0.1, affine=True, track_running_stats=True)\n",
              "          (relu1): ReLU(inplace=True)\n",
              "          (conv1): Conv2d(768, 128, kernel_size=(1, 1), stride=(1, 1), bias=False)\n",
              "          (norm2): BatchNorm2d(128, eps=1e-05, momentum=0.1, affine=True, track_running_stats=True)\n",
              "          (relu2): ReLU(inplace=True)\n",
              "          (conv2): Conv2d(128, 32, kernel_size=(3, 3), stride=(1, 1), padding=(1, 1), bias=False)\n",
              "        )\n",
              "        (denselayer10): _DenseLayer(\n",
              "          (norm1): BatchNorm2d(800, eps=1e-05, momentum=0.1, affine=True, track_running_stats=True)\n",
              "          (relu1): ReLU(inplace=True)\n",
              "          (conv1): Conv2d(800, 128, kernel_size=(1, 1), stride=(1, 1), bias=False)\n",
              "          (norm2): BatchNorm2d(128, eps=1e-05, momentum=0.1, affine=True, track_running_stats=True)\n",
              "          (relu2): ReLU(inplace=True)\n",
              "          (conv2): Conv2d(128, 32, kernel_size=(3, 3), stride=(1, 1), padding=(1, 1), bias=False)\n",
              "        )\n",
              "        (denselayer11): _DenseLayer(\n",
              "          (norm1): BatchNorm2d(832, eps=1e-05, momentum=0.1, affine=True, track_running_stats=True)\n",
              "          (relu1): ReLU(inplace=True)\n",
              "          (conv1): Conv2d(832, 128, kernel_size=(1, 1), stride=(1, 1), bias=False)\n",
              "          (norm2): BatchNorm2d(128, eps=1e-05, momentum=0.1, affine=True, track_running_stats=True)\n",
              "          (relu2): ReLU(inplace=True)\n",
              "          (conv2): Conv2d(128, 32, kernel_size=(3, 3), stride=(1, 1), padding=(1, 1), bias=False)\n",
              "        )\n",
              "        (denselayer12): _DenseLayer(\n",
              "          (norm1): BatchNorm2d(864, eps=1e-05, momentum=0.1, affine=True, track_running_stats=True)\n",
              "          (relu1): ReLU(inplace=True)\n",
              "          (conv1): Conv2d(864, 128, kernel_size=(1, 1), stride=(1, 1), bias=False)\n",
              "          (norm2): BatchNorm2d(128, eps=1e-05, momentum=0.1, affine=True, track_running_stats=True)\n",
              "          (relu2): ReLU(inplace=True)\n",
              "          (conv2): Conv2d(128, 32, kernel_size=(3, 3), stride=(1, 1), padding=(1, 1), bias=False)\n",
              "        )\n",
              "        (denselayer13): _DenseLayer(\n",
              "          (norm1): BatchNorm2d(896, eps=1e-05, momentum=0.1, affine=True, track_running_stats=True)\n",
              "          (relu1): ReLU(inplace=True)\n",
              "          (conv1): Conv2d(896, 128, kernel_size=(1, 1), stride=(1, 1), bias=False)\n",
              "          (norm2): BatchNorm2d(128, eps=1e-05, momentum=0.1, affine=True, track_running_stats=True)\n",
              "          (relu2): ReLU(inplace=True)\n",
              "          (conv2): Conv2d(128, 32, kernel_size=(3, 3), stride=(1, 1), padding=(1, 1), bias=False)\n",
              "        )\n",
              "        (denselayer14): _DenseLayer(\n",
              "          (norm1): BatchNorm2d(928, eps=1e-05, momentum=0.1, affine=True, track_running_stats=True)\n",
              "          (relu1): ReLU(inplace=True)\n",
              "          (conv1): Conv2d(928, 128, kernel_size=(1, 1), stride=(1, 1), bias=False)\n",
              "          (norm2): BatchNorm2d(128, eps=1e-05, momentum=0.1, affine=True, track_running_stats=True)\n",
              "          (relu2): ReLU(inplace=True)\n",
              "          (conv2): Conv2d(128, 32, kernel_size=(3, 3), stride=(1, 1), padding=(1, 1), bias=False)\n",
              "        )\n",
              "        (denselayer15): _DenseLayer(\n",
              "          (norm1): BatchNorm2d(960, eps=1e-05, momentum=0.1, affine=True, track_running_stats=True)\n",
              "          (relu1): ReLU(inplace=True)\n",
              "          (conv1): Conv2d(960, 128, kernel_size=(1, 1), stride=(1, 1), bias=False)\n",
              "          (norm2): BatchNorm2d(128, eps=1e-05, momentum=0.1, affine=True, track_running_stats=True)\n",
              "          (relu2): ReLU(inplace=True)\n",
              "          (conv2): Conv2d(128, 32, kernel_size=(3, 3), stride=(1, 1), padding=(1, 1), bias=False)\n",
              "        )\n",
              "        (denselayer16): _DenseLayer(\n",
              "          (norm1): BatchNorm2d(992, eps=1e-05, momentum=0.1, affine=True, track_running_stats=True)\n",
              "          (relu1): ReLU(inplace=True)\n",
              "          (conv1): Conv2d(992, 128, kernel_size=(1, 1), stride=(1, 1), bias=False)\n",
              "          (norm2): BatchNorm2d(128, eps=1e-05, momentum=0.1, affine=True, track_running_stats=True)\n",
              "          (relu2): ReLU(inplace=True)\n",
              "          (conv2): Conv2d(128, 32, kernel_size=(3, 3), stride=(1, 1), padding=(1, 1), bias=False)\n",
              "        )\n",
              "      )\n",
              "      (norm5): BatchNorm2d(1024, eps=1e-05, momentum=0.1, affine=True, track_running_stats=True)\n",
              "    )\n",
              "  )\n",
              "  (1): Flatten(start_dim=1, end_dim=-1)\n",
              "  (2): Linear(in_features=50176, out_features=10, bias=True)\n",
              ")"
            ]
          },
          "execution_count": 16,
          "metadata": {},
          "output_type": "execute_result"
        }
      ],
      "source": [
        "# Verify the model has the correct layer configuration\n",
        "densenet_model_aux"
      ]
    },
    {
      "cell_type": "code",
      "execution_count": null,
      "metadata": {
        "colab": {
          "base_uri": "https://localhost:8080/"
        },
        "id": "jNVCH4vWW5WM",
        "outputId": "34d4bfaa-93c4-4b33-bfd9-1fd06826be9f"
      },
      "outputs": [
        {
          "name": "stdout",
          "output_type": "stream",
          "text": [
            "Training DenseNet with frozen features...\n",
            "Epoch: 0, costo: 0.027779625728726387, accuracy: 0.8226,\n",
            "Epoch: 1, costo: 1.65482497215271, accuracy: 0.828,\n",
            "Epoch: 2, costo: 2.0797314643859863, accuracy: 0.8262,\n",
            "Epoch: 3, costo: 0.5945157408714294, accuracy: 0.83,\n",
            "Epoch: 4, costo: 1.143652319908142, accuracy: 0.8306,\n"
          ]
        }
      ],
      "source": [
        "# Train only the classifier (with frozen features)\n",
        "print(\"Training DenseNet with frozen features...\")\n",
        "train(densenet_model_aux, optimizer, epochs=5) "
      ]
    },
    {
      "cell_type": "code",
      "execution_count": null,
      "metadata": {
        "colab": {
          "base_uri": "https://localhost:8080/"
        },
        "id": "BkdbWTbKW8bV",
        "outputId": "94f62812-4eef-4a6d-be16-8c00e7f8bd9d"
      },
      "outputs": [
        {
          "name": "stdout",
          "output_type": "stream",
          "text": [
            "Fine-tuning DenseNet...\n",
            "Epoch: 0, costo: 4.490619903663173e-05, accuracy: 0.9134,\n"
          ]
        }
      ],
      "source": [
        "# Unfreeze the model for fine-tuning\n",
        "unfreeze_parameters(densenet_model_aux)\n",
        "# Continue training with lower learning rate\n",
        "fine_tune_lr = 1e-4  # Lower learning rate for fine-tuning\n",
        "optimizer = torch.optim.Adam(densenet_model_aux.parameters(), lr=fine_tune_lr)\n",
        "\n",
        "print(\"Fine-tuning DenseNet...\")\n",
        "train(densenet_model_aux, optimizer, epochs=1)  # Few epochs of fine-tuning"
      ]
    },
    {
      "cell_type": "code",
      "execution_count": null,
      "metadata": {
        "colab": {
          "base_uri": "https://localhost:8080/"
        },
        "id": "Kyb8gkx0W-OP",
        "outputId": "d8f3cf2c-f5d8-4530-d3bc-d0de2397e24e"
      },
      "outputs": [
        {
          "name": "stdout",
          "output_type": "stream",
          "text": [
            "DenseNet final test accuracy: 0.9175\n"
          ]
        }
      ],
      "source": [
        "# Evaluate final model\n",
        "final_accuracy = accuracy(densenet_model_aux, test_loader)\n",
        "print(f\"DenseNet final test accuracy: {final_accuracy:.4f}\")"
      ]
    },
    {
      "cell_type": "markdown",
      "metadata": {
        "id": "JuJy2GelXDGm"
      },
      "source": [
        "# ResNet"
      ]
    },
    {
      "cell_type": "code",
      "execution_count": null,
      "metadata": {
        "id": "i2gfeYi_XFad"
      },
      "outputs": [],
      "source": [
        "# Create a sequential model and remove the last layer\n",
        "resnet_model_aux = model_to_sequential(resnet_model)\n",
        "\n",
        "# Freeze all the parameters\n",
        "resnet_model_aux = freeze_parameters(resnet_model_aux)\n",
        "\n",
        "# Connect a linear layer to create a classifier with 10 classes (matching our CIFAR10)\n",
        "resnet_model_aux = create_classifier(\n",
        "    base_model=resnet_model_aux,\n",
        "    model_type='ResNet'  # Specify the original model type\n",
        ")\n",
        "\n",
        "# Move model to appropriate device\n",
        "resnet_model_aux = resnet_model_aux.to(device)\n",
        "\n",
        "# Declare learning rate and optimizer\n",
        "initial_lr = 5e-4\n",
        "optimizer = torch.optim.Adam(\n",
        "    [param for param in resnet_model_aux.parameters() if param.requires_grad],\n",
        "    lr=initial_lr\n",
        ")\n"
      ]
    },
    {
      "cell_type": "code",
      "execution_count": null,
      "metadata": {
        "colab": {
          "base_uri": "https://localhost:8080/"
        },
        "id": "5hclQulKXHp7",
        "outputId": "51251dd5-6051-40fa-e3cc-51578218048f"
      },
      "outputs": [
        {
          "data": {
            "text/plain": [
              "Sequential(\n",
              "  (0): Sequential(\n",
              "    (0): Conv2d(3, 64, kernel_size=(7, 7), stride=(2, 2), padding=(3, 3), bias=False)\n",
              "    (1): BatchNorm2d(64, eps=1e-05, momentum=0.1, affine=True, track_running_stats=True)\n",
              "    (2): ReLU(inplace=True)\n",
              "    (3): MaxPool2d(kernel_size=3, stride=2, padding=1, dilation=1, ceil_mode=False)\n",
              "    (4): Sequential(\n",
              "      (0): BasicBlock(\n",
              "        (conv1): Conv2d(64, 64, kernel_size=(3, 3), stride=(1, 1), padding=(1, 1), bias=False)\n",
              "        (bn1): BatchNorm2d(64, eps=1e-05, momentum=0.1, affine=True, track_running_stats=True)\n",
              "        (relu): ReLU(inplace=True)\n",
              "        (conv2): Conv2d(64, 64, kernel_size=(3, 3), stride=(1, 1), padding=(1, 1), bias=False)\n",
              "        (bn2): BatchNorm2d(64, eps=1e-05, momentum=0.1, affine=True, track_running_stats=True)\n",
              "      )\n",
              "      (1): BasicBlock(\n",
              "        (conv1): Conv2d(64, 64, kernel_size=(3, 3), stride=(1, 1), padding=(1, 1), bias=False)\n",
              "        (bn1): BatchNorm2d(64, eps=1e-05, momentum=0.1, affine=True, track_running_stats=True)\n",
              "        (relu): ReLU(inplace=True)\n",
              "        (conv2): Conv2d(64, 64, kernel_size=(3, 3), stride=(1, 1), padding=(1, 1), bias=False)\n",
              "        (bn2): BatchNorm2d(64, eps=1e-05, momentum=0.1, affine=True, track_running_stats=True)\n",
              "      )\n",
              "    )\n",
              "    (5): Sequential(\n",
              "      (0): BasicBlock(\n",
              "        (conv1): Conv2d(64, 128, kernel_size=(3, 3), stride=(2, 2), padding=(1, 1), bias=False)\n",
              "        (bn1): BatchNorm2d(128, eps=1e-05, momentum=0.1, affine=True, track_running_stats=True)\n",
              "        (relu): ReLU(inplace=True)\n",
              "        (conv2): Conv2d(128, 128, kernel_size=(3, 3), stride=(1, 1), padding=(1, 1), bias=False)\n",
              "        (bn2): BatchNorm2d(128, eps=1e-05, momentum=0.1, affine=True, track_running_stats=True)\n",
              "        (downsample): Sequential(\n",
              "          (0): Conv2d(64, 128, kernel_size=(1, 1), stride=(2, 2), bias=False)\n",
              "          (1): BatchNorm2d(128, eps=1e-05, momentum=0.1, affine=True, track_running_stats=True)\n",
              "        )\n",
              "      )\n",
              "      (1): BasicBlock(\n",
              "        (conv1): Conv2d(128, 128, kernel_size=(3, 3), stride=(1, 1), padding=(1, 1), bias=False)\n",
              "        (bn1): BatchNorm2d(128, eps=1e-05, momentum=0.1, affine=True, track_running_stats=True)\n",
              "        (relu): ReLU(inplace=True)\n",
              "        (conv2): Conv2d(128, 128, kernel_size=(3, 3), stride=(1, 1), padding=(1, 1), bias=False)\n",
              "        (bn2): BatchNorm2d(128, eps=1e-05, momentum=0.1, affine=True, track_running_stats=True)\n",
              "      )\n",
              "    )\n",
              "    (6): Sequential(\n",
              "      (0): BasicBlock(\n",
              "        (conv1): Conv2d(128, 256, kernel_size=(3, 3), stride=(2, 2), padding=(1, 1), bias=False)\n",
              "        (bn1): BatchNorm2d(256, eps=1e-05, momentum=0.1, affine=True, track_running_stats=True)\n",
              "        (relu): ReLU(inplace=True)\n",
              "        (conv2): Conv2d(256, 256, kernel_size=(3, 3), stride=(1, 1), padding=(1, 1), bias=False)\n",
              "        (bn2): BatchNorm2d(256, eps=1e-05, momentum=0.1, affine=True, track_running_stats=True)\n",
              "        (downsample): Sequential(\n",
              "          (0): Conv2d(128, 256, kernel_size=(1, 1), stride=(2, 2), bias=False)\n",
              "          (1): BatchNorm2d(256, eps=1e-05, momentum=0.1, affine=True, track_running_stats=True)\n",
              "        )\n",
              "      )\n",
              "      (1): BasicBlock(\n",
              "        (conv1): Conv2d(256, 256, kernel_size=(3, 3), stride=(1, 1), padding=(1, 1), bias=False)\n",
              "        (bn1): BatchNorm2d(256, eps=1e-05, momentum=0.1, affine=True, track_running_stats=True)\n",
              "        (relu): ReLU(inplace=True)\n",
              "        (conv2): Conv2d(256, 256, kernel_size=(3, 3), stride=(1, 1), padding=(1, 1), bias=False)\n",
              "        (bn2): BatchNorm2d(256, eps=1e-05, momentum=0.1, affine=True, track_running_stats=True)\n",
              "      )\n",
              "    )\n",
              "    (7): Sequential(\n",
              "      (0): BasicBlock(\n",
              "        (conv1): Conv2d(256, 512, kernel_size=(3, 3), stride=(2, 2), padding=(1, 1), bias=False)\n",
              "        (bn1): BatchNorm2d(512, eps=1e-05, momentum=0.1, affine=True, track_running_stats=True)\n",
              "        (relu): ReLU(inplace=True)\n",
              "        (conv2): Conv2d(512, 512, kernel_size=(3, 3), stride=(1, 1), padding=(1, 1), bias=False)\n",
              "        (bn2): BatchNorm2d(512, eps=1e-05, momentum=0.1, affine=True, track_running_stats=True)\n",
              "        (downsample): Sequential(\n",
              "          (0): Conv2d(256, 512, kernel_size=(1, 1), stride=(2, 2), bias=False)\n",
              "          (1): BatchNorm2d(512, eps=1e-05, momentum=0.1, affine=True, track_running_stats=True)\n",
              "        )\n",
              "      )\n",
              "      (1): BasicBlock(\n",
              "        (conv1): Conv2d(512, 512, kernel_size=(3, 3), stride=(1, 1), padding=(1, 1), bias=False)\n",
              "        (bn1): BatchNorm2d(512, eps=1e-05, momentum=0.1, affine=True, track_running_stats=True)\n",
              "        (relu): ReLU(inplace=True)\n",
              "        (conv2): Conv2d(512, 512, kernel_size=(3, 3), stride=(1, 1), padding=(1, 1), bias=False)\n",
              "        (bn2): BatchNorm2d(512, eps=1e-05, momentum=0.1, affine=True, track_running_stats=True)\n",
              "      )\n",
              "    )\n",
              "    (8): AdaptiveAvgPool2d(output_size=(1, 1))\n",
              "  )\n",
              "  (1): Flatten(start_dim=1, end_dim=-1)\n",
              "  (2): Linear(in_features=512, out_features=10, bias=True)\n",
              ")"
            ]
          },
          "execution_count": 22,
          "metadata": {},
          "output_type": "execute_result"
        }
      ],
      "source": [
        "# Verify the model has the correct layer configuration\n",
        "resnet_model_aux"
      ]
    },
    {
      "cell_type": "code",
      "execution_count": null,
      "metadata": {
        "colab": {
          "base_uri": "https://localhost:8080/"
        },
        "id": "FUD3HgoiXJDA",
        "outputId": "c6fc942f-acce-4044-a502-29ea8749f61c"
      },
      "outputs": [
        {
          "name": "stdout",
          "output_type": "stream",
          "text": [
            "Training ResNet with frozen features...\n",
            "Epoch: 0, costo: 1.163353681564331, accuracy: 0.7776,\n",
            "Epoch: 1, costo: 0.9750633835792542, accuracy: 0.795,\n",
            "Epoch: 2, costo: 0.9395719766616821, accuracy: 0.7996,\n",
            "Epoch: 3, costo: 1.2892441749572754, accuracy: 0.8046,\n",
            "Epoch: 4, costo: 0.2892991900444031, accuracy: 0.8048,\n"
          ]
        }
      ],
      "source": [
        "# Train only the classifier (with frozen features)\n",
        "print(\"Training ResNet with frozen features...\")\n",
        "train(resnet_model_aux, optimizer, epochs=5)  "
      ]
    },
    {
      "cell_type": "code",
      "execution_count": null,
      "metadata": {
        "colab": {
          "base_uri": "https://localhost:8080/"
        },
        "id": "ep63wUdIXKla",
        "outputId": "7264b08f-2cfb-4326-aad9-6122e7dc9aa6"
      },
      "outputs": [
        {
          "name": "stdout",
          "output_type": "stream",
          "text": [
            "Fine-tuning ResNet model...\n",
            "Epoch: 0, costo: 0.4037736654281616, accuracy: 0.9294,\n",
            "Epoch: 1, costo: 0.7318427562713623, accuracy: 0.9294,\n",
            "Epoch: 2, costo: 0.006168385501950979, accuracy: 0.9398,\n"
          ]
        }
      ],
      "source": [
        "# Unfreeze the model for fine-tuning\n",
        "unfreeze_parameters(resnet_model_aux)\n",
        "# Continue training for a few epochs\n",
        "fine_tune_lr = 1e-4  \n",
        "optimizer = torch.optim.Adam(resnet_model_aux.parameters(), lr=fine_tune_lr)\n",
        "\n",
        "print(\"Fine-tuning ResNet model...\")\n",
        "train(resnet_model_aux, optimizer, epochs=3)  "
      ]
    },
    {
      "cell_type": "code",
      "execution_count": null,
      "metadata": {
        "colab": {
          "base_uri": "https://localhost:8080/"
        },
        "id": "pOFpDZswXMK6",
        "outputId": "b6bb56ca-07ff-4c46-dcb6-b6e401484482"
      },
      "outputs": [
        {
          "name": "stdout",
          "output_type": "stream",
          "text": [
            "ResNet final test accuracy: 0.9398\n"
          ]
        }
      ],
      "source": [
        "# Evaluate final model\n",
        "final_accuracy = accuracy(resnet_model_aux, test_loader)\n",
        "print(f\"ResNet final test accuracy: {final_accuracy:.4f}\")"
      ]
    },
    {
      "cell_type": "markdown",
      "metadata": {},
      "source": [
        "# Conclusions\n",
        "\n",
        "\n",
        "\n",
        "**Final Test Accuracies**\n",
        "\n",
        "| Model | Test Accuracy |\n",
        "|-------|--------------|\n",
        "| AlexNet | 85.61% |\n",
        "| DenseNet121 | 91.75% |\n",
        "| ResNet18 | 93.98% |\n",
        "\n",
        "\n",
        "\n",
        "ResNet18 had the top performance with a 93.98% accuracy, followed closely by DenseNet121 at 91.75%, while AlexNet, achieved 85.61%. We think that the success of ResNet18 can be attributed to its skip connections, which facilitate better gradient flow during training (reducing the vanishing gradient problem), altough we need to make notice that ResNet had 3 epochs of fine-tuning while DenseNet had 1. We did this to save some time resources used, but I think we can conclude that the fine tunning process acts as an important booster on the performance of the models.\n"
      ]
    }
  ],
  "metadata": {
    "accelerator": "GPU",
    "colab": {
      "gpuType": "T4",
      "provenance": []
    },
    "kernelspec": {
      "display_name": "Python 3",
      "name": "python3"
    },
    "language_info": {
      "name": "python"
    }
  },
  "nbformat": 4,
  "nbformat_minor": 0
}
