{
 "cells": [
  {
   "cell_type": "code",
   "execution_count": 70,
   "metadata": {},
   "outputs": [],
   "source": [
    "import torch \n",
    "from torch import nn\n",
    "import matplotlib.pyplot as plt"
   ]
  },
  {
   "cell_type": "markdown",
   "metadata": {},
   "source": [
    "# Data preparation\n",
    "\n",
    "Lets create a dataset following the linear regression formula:\n",
    "$y = weight \\times X + bias $\n"
   ]
  },
  {
   "cell_type": "code",
   "execution_count": 71,
   "metadata": {},
   "outputs": [
    {
     "name": "stdout",
     "output_type": "stream",
     "text": [
      "shape=torch.Size([50])\n",
      "shape=torch.Size([50, 1])\n",
      "shape=torch.Size([50, 1])\n"
     ]
    }
   ],
   "source": [
    "# Lets begin with declaring the known values for parameters\n",
    "w = 0.7\n",
    "b = 0.3 \n",
    "# Lets create a simple linear model\n",
    "x = torch.arange(0,1,0.02, dtype=torch.float)\n",
    "print(f\"shape={x.shape}\")\n",
    "\n",
    "# We got a vector of 50 elements. Lets reshape it so it can treat\n",
    "# the elements as 50 samples of 1 feature\n",
    "X = x.reshape(-1,1)\n",
    "print(f\"shape={X.shape}\")\n",
    "\n",
    "# Lets create the output of the model\n",
    "Y = w*X + b\n",
    "print(f\"shape={Y.shape}\")"
   ]
  },
  {
   "cell_type": "code",
   "execution_count": 72,
   "metadata": {},
   "outputs": [
    {
     "name": "stdout",
     "output_type": "stream",
     "text": [
      "X_train.shape=torch.Size([40, 1]), X_test.shape=torch.Size([10, 1])\n",
      "Y_train.shape=torch.Size([40, 1]), Y_test.shape=torch.Size([10, 1])\n"
     ]
    }
   ],
   "source": [
    "# now lets make a split of the data into training and testing using 80/20 proportion\n",
    "train_len = int(0.8 * len(X))\n",
    "\n",
    "X_train = X[:train_len]\n",
    "X_test = X[train_len:]\n",
    "Y_train = Y[:train_len]\n",
    "Y_test = Y[train_len:]\n",
    "\n",
    "print(f\"X_train.shape={X_train.shape}, X_test.shape={X_test.shape}\")\n",
    "print(f\"Y_train.shape={Y_train.shape}, Y_test.shape={Y_test.shape}\")\n"
   ]
  },
  {
   "cell_type": "code",
   "execution_count": 73,
   "metadata": {},
   "outputs": [
    {
     "data": {
      "image/png": "[encoded data removed]",
      "text/plain": [
       "<Figure size 1000x700 with 1 Axes>"
      ]
     },
     "metadata": {},
     "output_type": "display_data"
    }
   ],
   "source": [
    "def plot_predictions(train_data=X_train, \n",
    "                     train_labels=Y_train, \n",
    "                     test_data=X_test, \n",
    "                     test_labels=Y_test, \n",
    "                     predictions=None):\n",
    "  \"\"\"\n",
    "  Plots training data, test data and compares predictions.\n",
    "  \"\"\"\n",
    "  plt.figure(figsize=(10, 7))\n",
    "\n",
    "  # Plot training data in blue\n",
    "  plt.scatter(train_data, train_labels, c=\"b\", s=4, label=\"Training data\")\n",
    "  \n",
    "  # Plot test data in green\n",
    "  plt.scatter(test_data, test_labels, c=\"g\", s=4, label=\"Testing data\")\n",
    "\n",
    "  if predictions is not None:\n",
    "    # Plot the predictions in red (predictions were made on the test data)\n",
    "    plt.scatter(test_data, predictions, c=\"r\", s=4, label=\"Predictions\")\n",
    "\n",
    "  # Show the legend\n",
    "  plt.legend(prop={\"size\": 14});\n",
    "\n",
    "plot_predictions()"
   ]
  },
  {
   "cell_type": "markdown",
   "metadata": {},
   "source": [
    "# Building a pytorch model"
   ]
  },
  {
   "cell_type": "code",
   "execution_count": 74,
   "metadata": {},
   "outputs": [
    {
     "data": {
      "text/plain": [
       "OrderedDict([('weights', tensor([0.2345])), ('bias', tensor([0.2303]))])"
      ]
     },
     "execution_count": 74,
     "metadata": {},
     "output_type": "execute_result"
    }
   ],
   "source": [
    "class LinearRegression(nn.Module):\n",
    "    def __init__(self):\n",
    "        super().__init__()\n",
    "        self.weights = nn.Parameter(\n",
    "            torch.randn(1),\n",
    "            requires_grad=True\n",
    "        )\n",
    "\n",
    "        self.bias = nn.Parameter(\n",
    "            torch.randn(1),\n",
    "            requires_grad=True\n",
    "        )\n",
    "    \n",
    "    def forward(self, X: torch.Tensor) -> torch.Tensor:\n",
    "        return self.weights*X + self.bias\n",
    "    \n",
    "lr_model = LinearRegression()\n",
    "lr_model.state_dict()"
   ]
  },
  {
   "cell_type": "markdown",
   "metadata": {},
   "source": [
    "# Loss Function and optimizer"
   ]
  },
  {
   "cell_type": "code",
   "execution_count": 75,
   "metadata": {},
   "outputs": [],
   "source": [
    "loss_fn = nn.L1Loss()\n",
    "optimizer = torch.optim.SGD(lr_model.parameters(), lr=0.01)"
   ]
  },
  {
   "cell_type": "markdown",
   "metadata": {},
   "source": [
    "# Training loop"
   ]
  },
  {
   "cell_type": "code",
   "execution_count": 76,
   "metadata": {},
   "outputs": [
    {
     "name": "stdout",
     "output_type": "stream",
     "text": [
      "Epoch: 0 | Train loss: 0.25122663378715515 \\ Test loss: 0.470524400472641\n",
      "Epoch: 20 | Train loss: 0.09095562994480133 \\ Test loss: 0.2517372965812683\n",
      "Epoch: 40 | Train loss: 0.06757690757513046 \\ Test loss: 0.17111757397651672\n",
      "Epoch: 60 | Train loss: 0.05999922752380371 \\ Test loss: 0.14298436045646667\n",
      "Epoch: 80 | Train loss: 0.05305762216448784 \\ Test loss: 0.12300487607717514\n",
      "Epoch: 100 | Train loss: 0.04619281366467476 \\ Test loss: 0.10714666545391083\n",
      "Epoch: 120 | Train loss: 0.03932538628578186 \\ Test loss: 0.09128846973180771\n",
      "Epoch: 140 | Train loss: 0.032451897859573364 \\ Test loss: 0.07543028146028519\n",
      "Epoch: 160 | Train loss: 0.02558557130396366 \\ Test loss: 0.058885179460048676\n",
      "Epoch: 180 | Train loss: 0.018720759078860283 \\ Test loss: 0.04302697628736496\n",
      "Epoch: 200 | Train loss: 0.011848028749227524 \\ Test loss: 0.02716878056526184\n",
      "Epoch: 220 | Train loss: 0.00497832614928484 \\ Test loss: 0.010623705573379993\n",
      "Epoch: 240 | Train loss: 0.004330189432948828 \\ Test loss: 0.004442447330802679\n",
      "Epoch: 260 | Train loss: 0.004330189432948828 \\ Test loss: 0.004442447330802679\n",
      "Epoch: 280 | Train loss: 0.004330189432948828 \\ Test loss: 0.004442447330802679\n"
     ]
    }
   ],
   "source": [
    "# set the seed \n",
    "torch.manual_seed(42)\n",
    "# Set the number of epochs\n",
    "epochs = 300 \n",
    "\n",
    "# record optimization metrics\n",
    "train_losses = []\n",
    "test_losses = []\n",
    "epoch_count = []\n",
    "\n",
    "# perform the loop\n",
    "for epoch in range(epochs):\n",
    "\n",
    "    # === Training ===\n",
    "    # Set the train mode\n",
    "    lr_model.train()\n",
    "\n",
    "    # 1. Forward pass \n",
    "    y_pred = lr_model(X_train)\n",
    "\n",
    "    # 2. Calulate the loss\n",
    "    train_loss = loss_fn(y_pred, Y_train)\n",
    "\n",
    "    # 3. set gradients to zero\n",
    "    optimizer.zero_grad()\n",
    "\n",
    "    # 4. Backward pass (back propagation on the loss)\n",
    "    train_loss.backward()\n",
    "\n",
    "    # 5. Optimize\n",
    "    optimizer.step()\n",
    "\n",
    "    # === Test ===\n",
    "    # Set the model in evaluation mode\n",
    "    lr_model.eval()\n",
    "\n",
    "    # set the context manager in inference mode\n",
    "    with torch.inference_mode():\n",
    "        # 1. Foward pass\n",
    "        y_test_pred = lr_model(X_test)\n",
    "        # 2. Calculate the loss \n",
    "        test_loss = loss_fn(y_test_pred, Y_test)\n",
    "\n",
    "        # Print optimization metrics\n",
    "    if epoch % 20 == 0:\n",
    "        epoch_count.append(epoch)\n",
    "        train_losses.append(train_loss)\n",
    "        test_losses.append(test_loss)\n",
    "        print(f\"Epoch: {epoch} | Train loss: {train_loss} \\ Test loss: {test_loss}\")\n",
    "\n",
    "\n",
    "\n",
    "        \n"
   ]
  },
  {
   "cell_type": "markdown",
   "metadata": {},
   "source": [
    "# Make predictions\n"
   ]
  },
  {
   "cell_type": "code",
   "execution_count": 77,
   "metadata": {},
   "outputs": [
    {
     "data": {
      "image/png": "[encoded data removed]",
      "text/plain": [
       "<Figure size 1000x700 with 1 Axes>"
      ]
     },
     "metadata": {},
     "output_type": "display_data"
    }
   ],
   "source": [
    "lr_model.eval()\n",
    "\n",
    "with torch.inference_mode():\n",
    "    y_pred = lr_model(X_test)\n",
    "\n",
    "plot_predictions(predictions=y_pred)"
   ]
  },
  {
   "cell_type": "markdown",
   "metadata": {},
   "source": [
    "# Save and reload the model"
   ]
  },
  {
   "cell_type": "code",
   "execution_count": 78,
   "metadata": {},
   "outputs": [
    {
     "name": "stdout",
     "output_type": "stream",
     "text": [
      "Model will be saved to models/practice01_linear_regression.pth\n"
     ]
    }
   ],
   "source": [
    "from pathlib import Path\n",
    "MODEL_PATH = Path(\"models\")\n",
    "MODEL_PATH.mkdir(exist_ok=True)\n",
    "MODEL_NAME = \"practice01_linear_regression.pth\"\n",
    "MODEL_SAVE_PATH = MODEL_PATH / MODEL_NAME\n",
    "\n",
    "print(f\"Model will be saved to {MODEL_SAVE_PATH}\")\n",
    "torch.save(\n",
    "    lr_model.state_dict(),\n",
    "    MODEL_SAVE_PATH\n",
    ")\n"
   ]
  },
  {
   "cell_type": "code",
   "execution_count": 79,
   "metadata": {},
   "outputs": [
    {
     "data": {
      "text/plain": [
       "<All keys matched successfully>"
      ]
     },
     "execution_count": 79,
     "metadata": {},
     "output_type": "execute_result"
    }
   ],
   "source": [
    "loaded_model = LinearRegression()\n",
    "loaded_model.load_state_dict(\n",
    "    torch.load(MODEL_SAVE_PATH)\n",
    ")"
   ]
  },
  {
   "cell_type": "markdown",
   "metadata": {},
   "source": [
    "# Confirm predictions from loaded model are correct"
   ]
  },
  {
   "cell_type": "code",
   "execution_count": 81,
   "metadata": {},
   "outputs": [
    {
     "data": {
      "text/plain": [
       "tensor([[True],\n",
       "        [True],\n",
       "        [True],\n",
       "        [True],\n",
       "        [True],\n",
       "        [True],\n",
       "        [True],\n",
       "        [True],\n",
       "        [True],\n",
       "        [True]])"
      ]
     },
     "execution_count": 81,
     "metadata": {},
     "output_type": "execute_result"
    }
   ],
   "source": [
    "loaded_model.eval()\n",
    "with torch.inference_mode():\n",
    "    y_pred_from_loaded_model = loaded_model(X_test)\n",
    "\n",
    "y_pred == y_pred_from_loaded_model"
   ]
  }
 ],
 "metadata": {
  "kernelspec": {
   "display_name": "aurora",
   "language": "python",
   "name": "python3"
  },
  "language_info": {
   "codemirror_mode": {
    "name": "ipython",
    "version": 3
   },
   "file_extension": ".py",
   "mimetype": "text/x-python",
   "name": "python",
   "nbconvert_exporter": "python",
   "pygments_lexer": "ipython3",
   "version": "3.11.0"
  }
 },
 "nbformat": 4,
 "nbformat_minor": 2
}
