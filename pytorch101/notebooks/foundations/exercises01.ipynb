{
 "cells": [
  {
   "cell_type": "markdown",
   "metadata": {},
   "source": [
    "# Tensor Creation\n",
    "\n",
    "Create the following tensors:\n",
    "1.\tA scalar tensor (0D tensor).\n",
    "2.\tA vector with 5 elements (1D tensor).\n",
    "3.\tA 3x3 matrix (2D tensor).\n",
    "4.\tA 3x3x3 tensor (3D tensor).\n",
    "\n",
    "For each tensor, check:\n",
    "-\tIts dimensions using tensor.ndim.\n",
    "-\tIts shape using tensor.shape."
   ]
  },
  {
   "cell_type": "code",
   "execution_count": 2,
   "metadata": {},
   "outputs": [
    {
     "name": "stdout",
     "output_type": "stream",
     "text": [
      "Dimensions: 0\n",
      "Shape: torch.Size([])\n"
     ]
    }
   ],
   "source": [
    "import torch\n",
    "\n",
    "def print_dimensions_shape(tensor: torch.Tensor):\n",
    "    print(f\"Dimensions: {tensor.dim()}\")\n",
    "    print(f\"Shape: {tensor.shape}\")\n",
    "\n",
    "scalar = torch.tensor(7)\n",
    "print_dimensions_shape(scalar)"
   ]
  },
  {
   "cell_type": "code",
   "execution_count": 5,
   "metadata": {},
   "outputs": [
    {
     "name": "stdout",
     "output_type": "stream",
     "text": [
      "Dimensions: 1\n",
      "Shape: torch.Size([5])\n"
     ]
    }
   ],
   "source": [
    "# A vector with 5 elements (1D tensor).\n",
    "tensor_1d = torch.tensor([1, 2, 3, 4, 5])\n",
    "print_dimensions_shape(tensor_1d)"
   ]
  },
  {
   "cell_type": "code",
   "execution_count": null,
   "metadata": {},
   "outputs": [
    {
     "name": "stdout",
     "output_type": "stream",
     "text": [
      "Dimensions: 2\n",
      "Shape: torch.Size([3, 3])\n"
     ]
    }
   ],
   "source": [
    "# A 3x3 matrix (2D tensor).\n",
    "tensor_2d = torch.tensor([\n",
    "    [1,2,3],\n",
    "    [4,5,6],\n",
    "    [7,8,9]\n",
    "])\n",
    "print_dimensions_shape(tensor_2d)"
   ]
  },
  {
   "cell_type": "code",
   "execution_count": 6,
   "metadata": {},
   "outputs": [
    {
     "name": "stdout",
     "output_type": "stream",
     "text": [
      "Dimensions: 3\n",
      "Shape: torch.Size([3, 3, 3])\n"
     ]
    }
   ],
   "source": [
    "# A 3x3x3 tensor (3D tensor).\n",
    "tensor_3d = torch.tensor([\n",
    "    [\n",
    "        [1,2,3],\n",
    "        [4,5,6],\n",
    "        [7,8,9]\n",
    "    ],\n",
    "    [\n",
    "        [1,2,3],\n",
    "        [4,5,6],\n",
    "        [7,8,9]\n",
    "    ],\n",
    "    [\n",
    "        [1,2,3],\n",
    "        [4,5,6],\n",
    "        [7,8,9]\n",
    "    ]\n",
    "])\n",
    "print_dimensions_shape(tensor_3d)"
   ]
  },
  {
   "cell_type": "markdown",
   "metadata": {},
   "source": [
    "# Random Tensors\n",
    "\n",
    "Generate random tensors of shapes:\n",
    "1.\t `(3, 4)`\n",
    "2.\t `(224, 224, 3)`\n",
    "\n",
    "Verify the type of the generated tensors using tensor.dtype."
   ]
  },
  {
   "cell_type": "code",
   "execution_count": 8,
   "metadata": {},
   "outputs": [
    {
     "name": "stdout",
     "output_type": "stream",
     "text": [
      "tensor([[0.5359, 0.0340, 0.7598, 0.6404],\n",
      "        [0.9675, 0.0442, 0.2316, 0.7177],\n",
      "        [0.4320, 0.8971, 0.6820, 0.7383]]) torch.float32\n"
     ]
    }
   ],
   "source": [
    "rand_tensor_01 = torch.rand(3,4)\n",
    "print(rand_tensor_01, rand_tensor_01.dtype)"
   ]
  },
  {
   "cell_type": "code",
   "execution_count": 9,
   "metadata": {},
   "outputs": [
    {
     "name": "stdout",
     "output_type": "stream",
     "text": [
      "tensor([[[0.3267, 0.9117, 0.8975],\n",
      "         [0.2945, 0.5832, 0.4966],\n",
      "         [0.2364, 0.0696, 0.4399],\n",
      "         ...,\n",
      "         [0.5820, 0.2406, 0.7868],\n",
      "         [0.2446, 0.8011, 0.2733],\n",
      "         [0.1926, 0.1580, 0.0121]],\n",
      "\n",
      "        [[0.5797, 0.8868, 0.6550],\n",
      "         [0.0574, 0.5608, 0.2466],\n",
      "         [0.1609, 0.5587, 0.4399],\n",
      "         ...,\n",
      "         [0.3891, 0.9488, 0.8673],\n",
      "         [0.7282, 0.8732, 0.0830],\n",
      "         [0.4236, 0.0226, 0.5316]],\n",
      "\n",
      "        [[0.0201, 0.4071, 0.0514],\n",
      "         [0.1108, 0.4866, 0.2600],\n",
      "         [0.6904, 0.1331, 0.9540],\n",
      "         ...,\n",
      "         [0.2558, 0.7359, 0.6769],\n",
      "         [0.8337, 0.5537, 0.3177],\n",
      "         [0.4782, 0.8042, 0.1978]],\n",
      "\n",
      "        ...,\n",
      "\n",
      "        [[0.3608, 0.0110, 0.0411],\n",
      "         [0.0427, 0.2522, 0.4622],\n",
      "         [0.2775, 0.0825, 0.7870],\n",
      "         ...,\n",
      "         [0.1544, 0.2224, 0.8733],\n",
      "         [0.0039, 0.4818, 0.1606],\n",
      "         [0.0130, 0.8343, 0.3502]],\n",
      "\n",
      "        [[0.9667, 0.8178, 0.9226],\n",
      "         [0.6231, 0.5043, 0.6602],\n",
      "         [0.7200, 0.1197, 0.2095],\n",
      "         ...,\n",
      "         [0.2089, 0.6324, 0.2431],\n",
      "         [0.6997, 0.3194, 0.6118],\n",
      "         [0.2927, 0.6908, 0.0162]],\n",
      "\n",
      "        [[0.6200, 0.9152, 0.3653],\n",
      "         [0.8042, 0.0465, 0.9135],\n",
      "         [0.1256, 0.4254, 0.6726],\n",
      "         ...,\n",
      "         [0.0831, 0.1292, 0.6069],\n",
      "         [0.2979, 0.1968, 0.7993],\n",
      "         [0.1906, 0.1340, 0.7216]]]) torch.float32\n"
     ]
    }
   ],
   "source": [
    "rand_tensor_02 = torch.rand(224,224,3)\n",
    "print(rand_tensor_02, rand_tensor_02.dtype)"
   ]
  },
  {
   "cell_type": "markdown",
   "metadata": {},
   "source": [
    "# Reshaping tensors\n",
    "Create a 1D tensor with 10 elements.\n",
    "\n",
    "Reshape it into the following shapes:\n",
    "1.\t (2, 5) \n",
    "2.\t (5, 2) \n",
    "3.\t (1, 10) \n",
    "\n",
    "Experiment with `torch.reshape` and `torch.view` and observe any differences."
   ]
  },
  {
   "cell_type": "code",
   "execution_count": 15,
   "metadata": {},
   "outputs": [
    {
     "name": "stdout",
     "output_type": "stream",
     "text": [
      "x.shape: torch.Size([10]), dimension: 1\n"
     ]
    }
   ],
   "source": [
    "x = torch.rand(10)\n",
    "print(f\"x.shape: {x.shape}, dimension: {x.dim()}\")"
   ]
  },
  {
   "cell_type": "code",
   "execution_count": 19,
   "metadata": {},
   "outputs": [
    {
     "name": "stdout",
     "output_type": "stream",
     "text": [
      "Dimensions: 2\n",
      "Shape: torch.Size([2, 5])\n",
      "Dimensions: 2\n",
      "Shape: torch.Size([2, 5])\n",
      "Dimensions: 2\n",
      "Shape: torch.Size([1, 10])\n"
     ]
    }
   ],
   "source": [
    "# Reshaping the tensor\n",
    "x_reshaped = x.reshape(2,5)\n",
    "print_dimensions_shape(x_reshaped)\n",
    "x_reshaped = x.reshape(2,5)\n",
    "print_dimensions_shape(x_reshaped)\n",
    "x_reshaped = x.reshape(1,10)\n",
    "print_dimensions_shape(x_reshaped)"
   ]
  },
  {
   "cell_type": "markdown",
   "metadata": {},
   "source": [
    "# Tensor Operations\n",
    "\n",
    "Perform the following operations on tensors:\n",
    "1.\tElement-wise addition, subtraction, multiplication, and division.\n",
    "2.\tMatrix multiplication between  (2, 3)  and  (3, 2) .\n",
    "3.\tExperiment with torch.matmul() and @."
   ]
  },
  {
   "cell_type": "code",
   "execution_count": 25,
   "metadata": {},
   "outputs": [
    {
     "name": "stdout",
     "output_type": "stream",
     "text": [
      "A + B: tensor([[1.3981, 1.3375, 1.2092],\n",
      "        [1.2255, 0.8985, 1.3080],\n",
      "        [0.8184, 1.0749, 0.6530]])\n",
      "A - B: tensor([[ 0.0425, -0.0182, -0.1465],\n",
      "        [-0.3774, -0.7044, -0.2949],\n",
      "        [ 0.4807,  0.7372,  0.3153]])\n",
      "A * B: tensor([[0.4882, 0.4471, 0.3602],\n",
      "        [0.3398, 0.0777, 0.4060],\n",
      "        [0.1097, 0.1530, 0.0817]])\n",
      "A / B: tensor([[1.0627, 0.9731, 0.7839],\n",
      "        [0.5291, 0.1210, 0.6321],\n",
      "        [3.8465, 5.3658, 2.8672]])\n"
     ]
    }
   ],
   "source": [
    "A = torch.rand(3,3)\n",
    "B = torch.rand(3,1)  # 3x1 matrix - pytorch will perform broadcasting\n",
    "\n",
    "print(f\"A + B: {A + B}\")\n",
    "print(f\"A - B: {A - B}\")\n",
    "print(f\"A * B: {A * B}\")\n",
    "print(f\"A / B: {A / B}\")\n"
   ]
  },
  {
   "cell_type": "code",
   "execution_count": 28,
   "metadata": {},
   "outputs": [
    {
     "name": "stdout",
     "output_type": "stream",
     "text": [
      "matrix multiplication with mm: tensor([[0.9228, 0.4964],\n",
      "        [1.9032, 1.0685]])\n",
      "matrix multiplication with torch.matmul: tensor([[0.9228, 0.4964],\n",
      "        [1.9032, 1.0685]])\n",
      "matrix multiplication with @: tensor([[0.9228, 0.4964],\n",
      "        [1.9032, 1.0685]])\n"
     ]
    }
   ],
   "source": [
    "A = torch.rand(2,3)\n",
    "B = torch.rand(3,2)\n",
    "print(f\"matrix multiplication with mm: {A.mm(B)}\")  # Matrix multiplication\n",
    "print(f\"matrix multiplication with torch.matmul: {torch.matmul(A, B)}\")  # Matrix multiplication\n",
    "print(f\"matrix multiplication with @: {A@B}\")  # Matrix multiplication\n"
   ]
  },
  {
   "cell_type": "markdown",
   "metadata": {},
   "source": [
    "# Aggregation\n",
    "Create a tensor with values from 0 to 10.\n",
    "\n",
    "Compute:\n",
    "-\tThe minimum and maximum values using torch.min and torch.max.\n",
    "-\tThe mean using torch.mean.\n",
    "-\tThe sum using torch.sum."
   ]
  },
  {
   "cell_type": "code",
   "execution_count": 38,
   "metadata": {},
   "outputs": [
    {
     "name": "stdout",
     "output_type": "stream",
     "text": [
      "tensor([0., 1., 2., 3., 4., 5., 6., 7., 8., 9.])\n",
      "Min: 0.0, Max: 9.0, Mean: 4.5, sum: 45.0\n"
     ]
    }
   ],
   "source": [
    "tensor = torch.arange(0,10,1,dtype=torch.float32)\n",
    "print(tensor)\n",
    "min = tensor.min()\n",
    "max = tensor.max()\n",
    "mean = tensor.mean()\n",
    "sum = tensor.sum()\n",
    "\n",
    "print(f\"Min: {min}, Max: {max}, Mean: {mean}, sum: {sum}\")"
   ]
  },
  {
   "cell_type": "markdown",
   "metadata": {},
   "source": [
    "# Broadcasting\n",
    "\n",
    "- Create two tensors of shapes  (1, 3)  and  (3, 3) .\n",
    "- Perform addition and multiplication to observe how broadcasting works.\n",
    "- Try incompatible shapes and understand the error messages."
   ]
  },
  {
   "cell_type": "code",
   "execution_count": 43,
   "metadata": {},
   "outputs": [],
   "source": [
    "A = torch.rand(1,3)\n",
    "B = torch.rand(3,3)\n",
    "mult = A@B\n",
    "add = A+B"
   ]
  },
  {
   "cell_type": "code",
   "execution_count": null,
   "metadata": {},
   "outputs": [],
   "source": [
    "A = torch.rand(2,3)\n",
    "B = torch.rand(3,3)\n",
    "\n",
    "# below commands won't work becase broadcasting cannot be performed on A (2,3).count\n",
    "# We meed that at least one of the dimensions should be 1\n",
    "# mult = A@B\n",
    "# add = A+B"
   ]
  },
  {
   "cell_type": "markdown",
   "metadata": {},
   "source": [
    "# Indexing and Slicing\n",
    "Create a 3D tensor of shape  `(2, 3, 4)`\n",
    "\n",
    "Extract:\n",
    "-\tThe first element from the first dimension.\n",
    "-\tAll elements from the second dimension of the first matrix.\n",
    "-\tSpecific rows/columns using slicing."
   ]
  },
  {
   "cell_type": "code",
   "execution_count": 47,
   "metadata": {},
   "outputs": [
    {
     "data": {
      "text/plain": [
       "tensor([[[0.0937, 0.6178, 0.1607, 0.2434],\n",
       "         [0.9296, 0.9087, 0.2702, 0.4704],\n",
       "         [0.5306, 0.2259, 0.2698, 0.0491]],\n",
       "\n",
       "        [[0.1198, 0.8794, 0.8197, 0.2906],\n",
       "         [0.4027, 0.7403, 0.3663, 0.9733],\n",
       "         [0.1229, 0.5125, 0.0064, 0.2798]]])"
      ]
     },
     "execution_count": 47,
     "metadata": {},
     "output_type": "execute_result"
    }
   ],
   "source": [
    "# Create a 3D tensor of shape  `(2, 3, 4)`\n",
    "tensor = torch.rand(2,3,4)\n",
    "tensor"
   ]
  },
  {
   "cell_type": "code",
   "execution_count": 50,
   "metadata": {},
   "outputs": [
    {
     "data": {
      "text/plain": [
       "tensor([[0.0937, 0.6178, 0.1607, 0.2434],\n",
       "        [0.9296, 0.9087, 0.2702, 0.4704],\n",
       "        [0.5306, 0.2259, 0.2698, 0.0491]])"
      ]
     },
     "execution_count": 50,
     "metadata": {},
     "output_type": "execute_result"
    }
   ],
   "source": [
    "# First element of the first dimension\n",
    "tensor[0]"
   ]
  },
  {
   "cell_type": "code",
   "execution_count": 53,
   "metadata": {},
   "outputs": [
    {
     "name": "stdout",
     "output_type": "stream",
     "text": [
      "tensor([0.6178, 0.9087, 0.2259])\n",
      "tensor([0.9296, 0.9087, 0.2702, 0.4704])\n"
     ]
    }
   ],
   "source": [
    "# All elements from the second dimension of the first matrix.\n",
    "print(tensor[0,:, 1])\n",
    "print(tensor[0,1, :])"
   ]
  }
 ],
 "metadata": {
  "kernelspec": {
   "display_name": "aurora",
   "language": "python",
   "name": "python3"
  },
  "language_info": {
   "codemirror_mode": {
    "name": "ipython",
    "version": 3
   },
   "file_extension": ".py",
   "mimetype": "text/x-python",
   "name": "python",
   "nbconvert_exporter": "python",
   "pygments_lexer": "ipython3",
   "version": "3.11.0"
  }
 },
 "nbformat": 4,
 "nbformat_minor": 2
}
